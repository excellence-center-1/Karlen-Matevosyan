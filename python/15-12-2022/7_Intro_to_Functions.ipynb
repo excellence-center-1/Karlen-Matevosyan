{
  "nbformat": 4,
  "nbformat_minor": 0,
  "metadata": {
    "colab": {
      "provenance": []
    },
    "kernelspec": {
      "name": "python3",
      "display_name": "Python 3"
    }
  },
  "cells": [
    {
      "cell_type": "markdown",
      "metadata": {
        "id": "5Dalx632xctF"
      },
      "source": [
        "You use functions in programming to bundle a set of instructions that you want to use repeatedly or that, because of their complexity, are better self-contained in a sub-program and called when needed. That means that a function is a piece of code written to carry out a specified task. \n",
        "\n",
        "In other words a function is a block of code which only runs when it is called.\n",
        "\n",
        "You can pass data, known as parameters, into a function.\n",
        "\n",
        "A function can return data as a result.\n",
        "\n",
        "There are three types of functions in Python:\n",
        "\n",
        "\n",
        "*   Built-in functions, such as help() to ask for help, min() to get the minimum value, print() to print an object to the terminal etc.\n",
        "*   User-Defined Functions (UDFs), which are functions that users create to help them out.\n",
        "*   Anonymous functions, which are also called **lambda** functions because they are not declared with the standard **def** keyword.\n",
        "\n",
        "The Python interpreter has a number of functions and types built into it that are always available. For complete list navigate through [Python built-in functions](https://docs.python.org/3/library/functions.html)\n"
      ]
    },
    {
      "cell_type": "markdown",
      "metadata": {
        "id": "73e1Gc-7x8cV"
      },
      "source": [
        "# Creating and calling a function\n",
        "In Python a function is defined using the def keyword."
      ]
    },
    {
      "cell_type": "code",
      "metadata": {
        "id": "t14Rb1kmx8i-",
        "colab": {
          "base_uri": "https://localhost:8080/"
        },
        "outputId": "2290e7ed-6e11-4618-d66e-6c33ae76507e"
      },
      "source": [
        "def print_hello():\n",
        "  print(\"Hello\")\n",
        "\n",
        "a = print_hello()\n",
        "print(a)\n",
        "print('something')\n",
        "print_hello()"
      ],
      "execution_count": null,
      "outputs": [
        {
          "output_type": "stream",
          "name": "stdout",
          "text": [
            "Hello\n",
            "None\n",
            "something\n",
            "Hello\n"
          ]
        }
      ]
    },
    {
      "cell_type": "code",
      "metadata": {
        "id": "_c2ohkzFlKxd"
      },
      "source": [
        "def draw_square():\n",
        "  print('*' * 15)\n",
        "  print('*', ' '*11, '*')\n",
        "  print('*', ' '*11, '*')\n",
        "  print('*' * 15)"
      ],
      "execution_count": null,
      "outputs": []
    },
    {
      "cell_type": "code",
      "metadata": {
        "id": "N4z21NtIlLJZ",
        "colab": {
          "base_uri": "https://localhost:8080/"
        },
        "outputId": "b40adb10-d218-42e1-de60-abe0a6c7ed34"
      },
      "source": [
        "draw_square()"
      ],
      "execution_count": null,
      "outputs": [
        {
          "output_type": "stream",
          "name": "stdout",
          "text": [
            "***************\n",
            "*             *\n",
            "*             *\n",
            "***************\n"
          ]
        }
      ]
    },
    {
      "cell_type": "markdown",
      "metadata": {
        "id": "xEb-eLIUx8o2"
      },
      "source": [
        "# Arguments\n",
        "Information can be passed into functions as arguments.\n",
        "\n",
        "Arguments are specified after the function name, inside the parentheses. You can add as many arguments as you want, just separate them with a comma."
      ]
    },
    {
      "cell_type": "code",
      "metadata": {
        "id": "uDkOygX_G8XR"
      },
      "source": [
        "def print_hello(n):\n",
        "  print(\"Hello \" * n)"
      ],
      "execution_count": null,
      "outputs": []
    },
    {
      "cell_type": "code",
      "metadata": {
        "id": "Hz2DsQ5dx8uY",
        "colab": {
          "base_uri": "https://localhost:8080/"
        },
        "outputId": "9debb984-998c-4c32-fff9-d54fb2d83628"
      },
      "source": [
        "print_hello(10)\n",
        "print_hello(5)"
      ],
      "execution_count": null,
      "outputs": [
        {
          "output_type": "stream",
          "name": "stdout",
          "text": [
            "Hello Hello Hello Hello Hello Hello Hello Hello Hello Hello \n",
            "Hello Hello Hello Hello Hello \n"
          ]
        }
      ]
    },
    {
      "cell_type": "markdown",
      "metadata": {
        "id": "wGJt8O6lx8zi"
      },
      "source": [
        "The terms parameter and argument can be used for the same thing: information that are passed into a function.\n",
        "\n",
        "From a function's perspective, a parameter is the variable listed inside the parentheses in the function definition.\n",
        "\n",
        "An argument is the value that are sent to the function when it is called."
      ]
    },
    {
      "cell_type": "markdown",
      "metadata": {
        "id": "bwlD0SaCl76M"
      },
      "source": [
        "You can pass more than one value to a function:"
      ]
    },
    {
      "cell_type": "code",
      "metadata": {
        "id": "4DwJlBxel-R6",
        "colab": {
          "base_uri": "https://localhost:8080/"
        },
        "outputId": "018789b1-2662-4c29-ee2e-5958fe4ce81d"
      },
      "source": [
        "def multiple_print(string, n):\n",
        "  print(string * n)\n",
        "\n",
        "multiple_print('Hello ', 5)\n",
        "multiple_print(string='Bye ', n=10)\n",
        "multiple_print(n=10, string='Bye ')\n",
        "\n",
        "k = multiple_print(string='Bye ', n=10)\n",
        "print(k)"
      ],
      "execution_count": null,
      "outputs": [
        {
          "output_type": "stream",
          "name": "stdout",
          "text": [
            "Hello Hello Hello Hello Hello \n",
            "Bye Bye Bye Bye Bye Bye Bye Bye Bye Bye \n",
            "Bye Bye Bye Bye Bye Bye Bye Bye Bye Bye \n",
            "Bye Bye Bye Bye Bye Bye Bye Bye Bye Bye \n",
            "None\n"
          ]
        }
      ]
    },
    {
      "cell_type": "markdown",
      "metadata": {
        "id": "BMDbvC2Hx844"
      },
      "source": [
        "# Returning values\n",
        "\n",
        "We can write functions that perform calculations and return a result. The `return` statement is used to send the result of a function's calculations back to the caller.\n",
        "\n",
        "By default, a function must be called with the correct number of arguments. Meaning that if your function expects 2 arguments, you have to call the function with 2 arguments, not more, and not less."
      ]
    },
    {
      "cell_type": "code",
      "metadata": {
        "id": "gpyvWi8bx8-N",
        "colab": {
          "base_uri": "https://localhost:8080/"
        },
        "outputId": "64e671da-2f44-4a81-bb37-bb0387819ece"
      },
      "source": [
        "def multiply(x, y):\n",
        "  print('hello')\n",
        "  return x*y\n",
        "\n",
        "k = multiply(3, 7)\n",
        "print('k =', k)"
      ],
      "execution_count": null,
      "outputs": [
        {
          "output_type": "stream",
          "name": "stdout",
          "text": [
            "hello\n",
            "k = 21\n"
          ]
        }
      ]
    },
    {
      "cell_type": "markdown",
      "metadata": {
        "id": "dC9Zva_hx9DH"
      },
      "source": [
        "If we try to call the function with 1 or 3 arguments, we will get an error."
      ]
    },
    {
      "cell_type": "code",
      "metadata": {
        "id": "05RvVdVox9H8",
        "colab": {
          "base_uri": "https://localhost:8080/",
          "height": 166
        },
        "outputId": "acf411c5-f0c1-41d2-ec1c-f8382b48b1b9"
      },
      "source": [
        "multiply(3)"
      ],
      "execution_count": null,
      "outputs": [
        {
          "output_type": "error",
          "ename": "TypeError",
          "evalue": "ignored",
          "traceback": [
            "\u001b[0;31m---------------------------------------------------------------------------\u001b[0m",
            "\u001b[0;31mTypeError\u001b[0m                                 Traceback (most recent call last)",
            "\u001b[0;32m<ipython-input-10-38b1e4e308d4>\u001b[0m in \u001b[0;36m<module>\u001b[0;34m\u001b[0m\n\u001b[0;32m----> 1\u001b[0;31m \u001b[0mmultiply\u001b[0m\u001b[0;34m(\u001b[0m\u001b[0;36m3\u001b[0m\u001b[0;34m)\u001b[0m\u001b[0;34m\u001b[0m\u001b[0;34m\u001b[0m\u001b[0m\n\u001b[0m",
            "\u001b[0;31mTypeError\u001b[0m: multiply() missing 1 required positional argument: 'y'"
          ]
        }
      ]
    },
    {
      "cell_type": "markdown",
      "metadata": {
        "id": "LUSyo5IGms1-"
      },
      "source": [
        "Notice that the function itself does not do any printing. The printing is done outside of the function. That way, we can do math with the result, like below."
      ]
    },
    {
      "cell_type": "code",
      "metadata": {
        "id": "Sq5SPA6-m0sW",
        "colab": {
          "base_uri": "https://localhost:8080/"
        },
        "outputId": "eaff03b2-b3eb-4c2f-88cf-bb61a788b56e"
      },
      "source": [
        "print(multiply(4, 5) + 10)"
      ],
      "execution_count": null,
      "outputs": [
        {
          "output_type": "stream",
          "name": "stdout",
          "text": [
            "hello\n",
            "30\n"
          ]
        }
      ]
    },
    {
      "cell_type": "markdown",
      "metadata": {
        "id": "Vw-U9v2am_P3"
      },
      "source": [
        "If we had just printed the result in the function instead of returning it, the result would have been\n",
        "printed to the screen and forgotten about, and we would never be able to do anything with it."
      ]
    },
    {
      "cell_type": "markdown",
      "metadata": {
        "id": "f1jUVSDtnEIz"
      },
      "source": [
        "A function can return multiple values as a list or a tuple."
      ]
    },
    {
      "cell_type": "markdown",
      "metadata": {
        "id": "clizwsMAob33"
      },
      "source": [
        "We revisit the problem, where we try to find an integer\n",
        "solution $(x, y)$ to the system $2x + 3y = 4, x - y = 7$, where $x$ and $y$ are both between $-50$ and $50$."
      ]
    },
    {
      "cell_type": "code",
      "metadata": {
        "id": "TBPDmUaSocpX"
      },
      "source": [
        "def solve(a, b):\n",
        "  for x in range(a, b):\n",
        "    for y in range(a, b):\n",
        "      # print(x, y)\n",
        "      if 2*x + 3*y == 4 and x - y == 7:\n",
        "        return x, y"
      ],
      "execution_count": 2,
      "outputs": []
    },
    {
      "cell_type": "code",
      "metadata": {
        "id": "ltB4dKXIoc14",
        "colab": {
          "base_uri": "https://localhost:8080/"
        },
        "outputId": "623c9a78-d321-456c-c6e9-9ef426e26ff3"
      },
      "source": [
        "x_sol, y_sol = solve(-50, 51)\n",
        "print(f'The solution is x={x_sol} and y={y_sol}')"
      ],
      "execution_count": 3,
      "outputs": [
        {
          "output_type": "stream",
          "name": "stdout",
          "text": [
            "The solution is x=5 and y=-2\n"
          ]
        }
      ]
    },
    {
      "cell_type": "code",
      "metadata": {
        "id": "PZzUc-tcLO45"
      },
      "source": [
        "def solve(a, b):\n",
        "  for x in range(a, b):\n",
        "    for y in range(a, b):\n",
        "      # print(x, y)\n",
        "      if 2*x + 3*y == 4 and x - y == 7:\n",
        "        x_sol = x\n",
        "        y_sol = y \n",
        "  return x_sol, y_sol"
      ],
      "execution_count": 4,
      "outputs": []
    },
    {
      "cell_type": "code",
      "metadata": {
        "id": "uLfpGfJHLPmH",
        "colab": {
          "base_uri": "https://localhost:8080/"
        },
        "outputId": "2fa4a7d9-15d2-4d9c-8c16-1594016e87fd"
      },
      "source": [
        "x_sol, y_sol = solve(-50, 51)\n",
        "print(f'The solution is x={x_sol} and y={y_sol}')"
      ],
      "execution_count": 5,
      "outputs": [
        {
          "output_type": "stream",
          "name": "stdout",
          "text": [
            "The solution is x=5 and y=-2\n"
          ]
        }
      ]
    },
    {
      "cell_type": "markdown",
      "metadata": {
        "id": "Ev0cWNKXpekm"
      },
      "source": [
        "The return statement by itself can be used to end a function early, as it is done in the above or below examples."
      ]
    },
    {
      "cell_type": "code",
      "metadata": {
        "id": "1Q1DFGf2oc8k"
      },
      "source": [
        "def multiple_print(string, n, bad_words):\n",
        "  if string in bad_words:\n",
        "    return\n",
        "  print(string * n)"
      ],
      "execution_count": 7,
      "outputs": []
    },
    {
      "cell_type": "code",
      "metadata": {
        "id": "iOIm84cwplGs",
        "colab": {
          "base_uri": "https://localhost:8080/"
        },
        "outputId": "34362c92-8770-42f8-9389-1d5c0441f022"
      },
      "source": [
        "multiple_print('Hello ', 2, ['Bye', 'Hi'])\n",
        "multiple_print('Bye', 2, ['Bye', 'Hi'])"
      ],
      "execution_count": 8,
      "outputs": [
        {
          "output_type": "stream",
          "name": "stdout",
          "text": [
            "Hello Hello \n"
          ]
        }
      ]
    },
    {
      "cell_type": "markdown",
      "metadata": {
        "id": "xf9JN5mYrVBY"
      },
      "source": [
        "The same effect can be achieved with an `if/else` statement, but in some cases, using `return` can\n",
        "make your code simpler and more readable."
      ]
    },
    {
      "cell_type": "markdown",
      "metadata": {
        "id": "nlbP5BgnplOV"
      },
      "source": [
        "# Default arguments"
      ]
    },
    {
      "cell_type": "markdown",
      "metadata": {
        "id": "Sf5iPJoTplTv"
      },
      "source": [
        "You can specify a `default` value for an argument. This makes it optional, and if the caller decides\n",
        "not to use it, then it takes the default value. Here is an example:"
      ]
    },
    {
      "cell_type": "code",
      "metadata": {
        "id": "aTCRfISaplYf",
        "colab": {
          "base_uri": "https://localhost:8080/"
        },
        "outputId": "ae5c5e5a-3777-474d-da50-0e994b4a6cc4"
      },
      "source": [
        "def multiple_print(string, n=1):\n",
        "  print(string * n)\n",
        "\n",
        "multiple_print('Hello ', 5)\n",
        "multiple_print('Hello ')"
      ],
      "execution_count": null,
      "outputs": [
        {
          "output_type": "stream",
          "name": "stdout",
          "text": [
            "Hello Hello Hello Hello Hello \n",
            "Hello \n"
          ]
        }
      ]
    },
    {
      "cell_type": "markdown",
      "metadata": {
        "id": "JvcZ_pLysgrC"
      },
      "source": [
        "`Default` arguments need to come at the end of the function definition, after all of the non-default\n",
        "arguments."
      ]
    },
    {
      "cell_type": "code",
      "metadata": {
        "id": "sBU05WLasSjV",
        "colab": {
          "base_uri": "https://localhost:8080/",
          "height": 131
        },
        "outputId": "e0857abb-d13c-4f55-9f67-e4b0c0cbbd79"
      },
      "source": [
        "def multiple_print(n=1, string):\n",
        "  print(string * n)"
      ],
      "execution_count": null,
      "outputs": [
        {
          "output_type": "error",
          "ename": "SyntaxError",
          "evalue": "ignored",
          "traceback": [
            "\u001b[0;36m  File \u001b[0;32m\"<ipython-input-21-47be1df27c9b>\"\u001b[0;36m, line \u001b[0;32m1\u001b[0m\n\u001b[0;31m    def multiple_print(n=1, string):\u001b[0m\n\u001b[0m                       ^\u001b[0m\n\u001b[0;31mSyntaxError\u001b[0m\u001b[0;31m:\u001b[0m non-default argument follows default argument\n"
          ]
        }
      ]
    },
    {
      "cell_type": "markdown",
      "metadata": {
        "id": "cn_GA94nsSqC"
      },
      "source": [
        "Arguments are passed by position, unless stated otherwise. For example, we can use **keyword** arguments in order not to mix the order of the arguments."
      ]
    },
    {
      "cell_type": "code",
      "metadata": {
        "id": "gqXLNMFlsSwS"
      },
      "source": [
        "def multiple_print(string, other_string, n=1):\n",
        "  print(string * n +  other_string )"
      ],
      "execution_count": null,
      "outputs": []
    },
    {
      "cell_type": "code",
      "metadata": {
        "id": "0HkmDVwHsS2f",
        "colab": {
          "base_uri": "https://localhost:8080/"
        },
        "outputId": "0e59cd98-8b56-4102-9763-969197b17c0a"
      },
      "source": [
        "multiple_print('Hello', 'Bye', n=10)"
      ],
      "execution_count": null,
      "outputs": [
        {
          "output_type": "stream",
          "name": "stdout",
          "text": [
            "HelloHelloHelloHelloHelloHelloHelloHelloHelloHelloBye\n"
          ]
        }
      ]
    },
    {
      "cell_type": "code",
      "metadata": {
        "id": "DHeskI1-sS8D",
        "colab": {
          "base_uri": "https://localhost:8080/"
        },
        "outputId": "60d971ba-6ad8-4185-b8f8-38d50a5d8c19"
      },
      "source": [
        "multiple_print(n=10, other_string='Bye', string='Hello')"
      ],
      "execution_count": null,
      "outputs": [
        {
          "output_type": "stream",
          "name": "stdout",
          "text": [
            "HelloHelloHelloHelloHelloHelloHelloHelloHelloHelloBye\n"
          ]
        }
      ]
    },
    {
      "cell_type": "markdown",
      "metadata": {
        "id": "-vio1U7UpldL"
      },
      "source": [
        "When defining functions, it is a good idea to give defaults, since most of the time the user doesn't change some of the argument values."
      ]
    },
    {
      "cell_type": "markdown",
      "metadata": {
        "id": "M7cO9ubBx-JE"
      },
      "source": [
        "# Scope Resolution in Python | LEGB Rule\n",
        "**Namespaces** : A namespace is a container where names are mapped to objects, they are used to avoid confusions in cases where same names exist in different namespaces. They are created by modules, functions, classes etc.\n",
        "\n",
        "**Scope** : A scope defines the hierarchical order in which the namespaces have to be searched in order to obtain the mappings of name-to-object(variables). It is a context in which variables exist and from which they are referenced. It defines the accessibility and the lifetime of a variable. Let us take a simple example as shown below:"
      ]
    },
    {
      "cell_type": "code",
      "metadata": {
        "id": "Tnn03pKsx-N1",
        "colab": {
          "base_uri": "https://localhost:8080/"
        },
        "outputId": "e8a4eb0c-24b3-4477-ed68-8ace725d6ab9"
      },
      "source": [
        "pi = 'outer pi variable'\n",
        "  \n",
        "def print_pi(): \n",
        "  pi = 'inner pi variable'\n",
        "  print(pi) \n",
        "  \n",
        "print_pi() \n",
        "print(pi)"
      ],
      "execution_count": null,
      "outputs": [
        {
          "output_type": "stream",
          "name": "stdout",
          "text": [
            "inner pi variable\n",
            "outer pi variable\n"
          ]
        }
      ]
    },
    {
      "cell_type": "markdown",
      "metadata": {
        "id": "7tmKBF9Gx-Sy"
      },
      "source": [
        "# Scope resolution via LEGB rule\n",
        "In Python, the LEGB rule is used to decide the order in which the namespaces are to be searched for scope resolution.\n",
        "The scopes are listed below in terms of hierarchy:\n",
        "\n",
        "*   Local(L): Defined inside function/class\n",
        "*   Enclosed(E): Defined inside enclosing functions(Nested function concept)\n",
        "*   Global(G): Defined at the uppermost level\n",
        "*   Built-in(B): Reserved names in Python builtin modules\n",
        "\n",
        "![alt text](https://media.geeksforgeeks.org/wp-content/uploads/ScopeResolution-1-300x260.png)\n",
        "\n"
      ]
    },
    {
      "cell_type": "markdown",
      "metadata": {
        "id": "QxezUDjwx-Xw"
      },
      "source": [
        "## Local Scope\n",
        "Local scope refers to variables defined in current function. Always, a function will first look up for a variable name in its local scope. Only if it does not find it there, the outer scopes are checked."
      ]
    },
    {
      "cell_type": "code",
      "metadata": {
        "id": "HJmzqLA7x-dY",
        "colab": {
          "base_uri": "https://localhost:8080/"
        },
        "outputId": "7a105810-566e-4283-c4dc-0f809633dc33"
      },
      "source": [
        "pi = 'global pi variable'\n",
        "\n",
        "\n",
        "def inner(): \n",
        "    pi = 'inner pi variable'\n",
        "    print(pi) \n",
        "  \n",
        "inner()\n",
        "print(pi)"
      ],
      "execution_count": null,
      "outputs": [
        {
          "output_type": "stream",
          "name": "stdout",
          "text": [
            "inner pi variable\n",
            "global pi variable\n"
          ]
        }
      ]
    },
    {
      "cell_type": "markdown",
      "metadata": {
        "id": "ohM_1eJAfmvi"
      },
      "source": [
        "Let's say we have two functions like the ones below that each use a variable `i`:"
      ]
    },
    {
      "cell_type": "code",
      "metadata": {
        "id": "mkwUoz91fR-0",
        "colab": {
          "base_uri": "https://localhost:8080/"
        },
        "outputId": "7ab6c3d6-c74c-4fca-e594-73d2f86f7844"
      },
      "source": [
        "def func1():\n",
        "  for i in range(10):\n",
        "    print(i)\n",
        "\n",
        "def func2():\n",
        "  i = 100\n",
        "  func1()\n",
        "  print(i)\n",
        "\n",
        "func2()"
      ],
      "execution_count": null,
      "outputs": [
        {
          "output_type": "stream",
          "name": "stdout",
          "text": [
            "0\n",
            "1\n",
            "2\n",
            "3\n",
            "4\n",
            "5\n",
            "6\n",
            "7\n",
            "8\n",
            "9\n",
            "100\n"
          ]
        }
      ]
    },
    {
      "cell_type": "markdown",
      "metadata": {
        "id": "CXBHyeOKfszG"
      },
      "source": [
        "In a large program it would be hard to make sure that we don't repeat\n",
        "variable names in different functions, and, fortunately, we don't have to worry about this. When\n",
        "a variable is defined inside a function, it is `local` to that function, which means it does\n",
        "not exist outside that function. This way each function can define its own variables and not have\n",
        "to worry about if those variable names are used in other functions."
      ]
    },
    {
      "cell_type": "markdown",
      "metadata": {
        "id": "WQOZsZgVx-iA"
      },
      "source": [
        "## Local and Global Scopes"
      ]
    },
    {
      "cell_type": "markdown",
      "metadata": {
        "id": "y3cMfu1AgSjO"
      },
      "source": [
        "On the other hand, sometimes you do want the same variable to be\n",
        "available to multiple functions. Such a variable is called a `global` variable. You have to be careful\n",
        "using `global` variables, especially in larger programs. Here is a short example:"
      ]
    },
    {
      "cell_type": "code",
      "metadata": {
        "id": "A69SQ1tMgiox",
        "colab": {
          "base_uri": "https://localhost:8080/"
        },
        "outputId": "7d4b9bb1-ce91-427a-e24d-f26b3a299c9f"
      },
      "source": [
        "# time_left = 30\n",
        "\n",
        "def print_time():\n",
        "  print(time_left)\n",
        "\n",
        "def reset():\n",
        "  global time_left\n",
        "  time_left = 0\n",
        "\n",
        "time_left = 30\n",
        "print_time()\n",
        "reset()\n",
        "print_time()"
      ],
      "execution_count": null,
      "outputs": [
        {
          "output_type": "stream",
          "name": "stdout",
          "text": [
            "30\n",
            "0\n"
          ]
        }
      ]
    },
    {
      "cell_type": "markdown",
      "metadata": {
        "id": "7ZRuSA2thEbH"
      },
      "source": [
        "In the above program we have a variable `time_left` that we would like multiple functions to have\n",
        "access to. If a function wants to change the value of that variable, we need to tell the function that\n",
        "`time_left` is a `global` variable. If we just want to use the value of the global variable, we do not need a **global** statement."
      ]
    },
    {
      "cell_type": "code",
      "metadata": {
        "id": "w1zgj4gXx-mr",
        "colab": {
          "base_uri": "https://localhost:8080/",
          "height": 34
        },
        "outputId": "7fc54769-ad01-4e67-ac44-284d91445b51"
      },
      "source": [
        "y, z = 1, 2\n",
        "def all_global():\n",
        "  global x \n",
        "  x = y + z\n",
        "\n",
        "all_global()\n",
        "print(x)"
      ],
      "execution_count": null,
      "outputs": [
        {
          "output_type": "stream",
          "text": [
            "3\n"
          ],
          "name": "stdout"
        }
      ]
    },
    {
      "cell_type": "markdown",
      "metadata": {
        "id": "7Bmk6EVOx-rf"
      },
      "source": [
        "Here, x, y, and z are all globals inside the function **all_global**. y and z are global because they aren't assigned in the function; x is global because it was listed in a global statement to map it to the module’s scope explicitly. Without the global here, x would be considered local by virtue of the assignment."
      ]
    },
    {
      "cell_type": "markdown",
      "metadata": {
        "id": "cMgqZ1Lyx-wG"
      },
      "source": [
        "If a variable is not defined in local scope, then, it is checked for in the higher scope, in this case, the global scope."
      ]
    },
    {
      "cell_type": "code",
      "metadata": {
        "id": "f5-aagTqx-1M",
        "colab": {
          "base_uri": "https://localhost:8080/"
        },
        "outputId": "2e698d2c-ead8-4fb1-8535-49ef87cb5bb9"
      },
      "source": [
        "pi = 'global pi variable'\n",
        "def inner(): \n",
        "    print(pi) \n",
        "  \n",
        "inner() \n",
        "print(pi) "
      ],
      "execution_count": null,
      "outputs": [
        {
          "output_type": "stream",
          "name": "stdout",
          "text": [
            "global pi variable\n",
            "global pi variable\n"
          ]
        }
      ]
    },
    {
      "cell_type": "markdown",
      "metadata": {
        "id": "jEA0YZgAx-6J"
      },
      "source": [
        "## Local, Enclosed and Global Scopes\n",
        "For the enclosed scope, we need to define an `outer` function enclosing the `inner` function, comment out the `local pi` variable of `inner` function and refer to `pi` using the **nonlocal** keyword."
      ]
    },
    {
      "cell_type": "code",
      "metadata": {
        "id": "ci55R_sjx-_L",
        "colab": {
          "base_uri": "https://localhost:8080/"
        },
        "outputId": "1f82e6e2-97d3-42c6-c6c9-58d567db9698"
      },
      "source": [
        "pi = 'global pi variable'\n",
        "  \n",
        "def outer(): \n",
        "  pi = 'outer pi variable'\n",
        "  def inner(): \n",
        "    pi = \"local pi variable\"  \n",
        "    print(pi) \n",
        "  inner() \n",
        "  print(pi)\n",
        "  \n",
        "outer() \n",
        "print(pi)"
      ],
      "execution_count": null,
      "outputs": [
        {
          "output_type": "stream",
          "name": "stdout",
          "text": [
            "local pi variable\n",
            "outer pi variable\n",
            "global pi variable\n"
          ]
        }
      ]
    },
    {
      "cell_type": "code",
      "metadata": {
        "id": "7CrVGpWWmCtW",
        "colab": {
          "base_uri": "https://localhost:8080/",
          "height": 67
        },
        "outputId": "843a9bbd-1d26-41dd-e3b6-96b1a3e7f0fc"
      },
      "source": [
        "pi = 'global pi variable'\n",
        "  \n",
        "def outer(): \n",
        "  pi = 'outer pi variable'\n",
        "  def inner():\n",
        "    nonlocal pi    \n",
        "    pi = \"local pi variable\"  \n",
        "    print(pi) \n",
        "  inner() \n",
        "  print(pi)\n",
        "  \n",
        "outer() \n",
        "print(pi)"
      ],
      "execution_count": null,
      "outputs": [
        {
          "output_type": "stream",
          "text": [
            "local pi variable\n",
            "local pi variable\n",
            "global pi variable\n"
          ],
          "name": "stdout"
        }
      ]
    },
    {
      "cell_type": "markdown",
      "metadata": {
        "id": "P6PPEToomKlj"
      },
      "source": [
        "When we use `nonlocal` statement, `inner()`'s `pi` is now also `outer()`'s `pi`."
      ]
    },
    {
      "cell_type": "markdown",
      "metadata": {
        "id": "UzfZUGiix_ET"
      },
      "source": [
        "## Local, Enclosed, Global and Built-in Scopes\n",
        "The final check can be done by importing pi from math module and commenting the global, enclosed and local pi variables."
      ]
    },
    {
      "cell_type": "code",
      "metadata": {
        "id": "9i7QUR0e32bV",
        "colab": {
          "base_uri": "https://localhost:8080/"
        },
        "outputId": "1a8cea4c-9cc0-46a8-c722-8ad2662e09eb"
      },
      "source": [
        "from math import pi \n",
        " \n",
        "# pi = 'global pi variable'   \n",
        "def outer(): \n",
        "    pi = 'outer pi variable' \n",
        "    def inner(): \n",
        "        pi = 'inner pi variable' \n",
        "        print(pi) \n",
        "    inner() \n",
        "  \n",
        "outer() \n",
        "print(pi)"
      ],
      "execution_count": null,
      "outputs": [
        {
          "output_type": "stream",
          "name": "stdout",
          "text": [
            "inner pi variable\n",
            "3.141592653589793\n"
          ]
        }
      ]
    },
    {
      "cell_type": "markdown",
      "metadata": {
        "id": "HIn9gLzSx_KI"
      },
      "source": [
        "# Exercises"
      ]
    },
    {
      "cell_type": "markdown",
      "metadata": {
        "id": "05IIieaQx_PL"
      },
      "source": [
        "1. Write a function called `rectangle` that takes two integers `m` and `n` as arguments and prints\n",
        "out an $m \\times n$ box consisting of asterisks. \n",
        "\n",
        "  Գրել `rectangle` անունով ֆունկցիա, որը ընդունում է երկու ամբողջ թիվ `m` ու `n`, և տպում է  $m \\times n$ չափսի ուղղանկյուն՝ կազմված աստղանիշերից։"
      ]
    },
    {
      "cell_type": "code",
      "source": [
        "#Option I\n",
        "def rectangle(m,n):\n",
        "  print(\"* \" * m)\n",
        "  for i in range(n-1):\n",
        "    print(\"* \" * m)\n",
        "\n",
        "rectangle(12,7)"
      ],
      "metadata": {
        "id": "Rte2soh0b3lb",
        "outputId": "7d81c32c-68d4-4b3f-b4e0-2e68e7566ba9",
        "colab": {
          "base_uri": "https://localhost:8080/"
        }
      },
      "execution_count": 47,
      "outputs": [
        {
          "output_type": "stream",
          "name": "stdout",
          "text": [
            "* * * * * * * * * * * * \n",
            "* * * * * * * * * * * * \n",
            "* * * * * * * * * * * * \n",
            "* * * * * * * * * * * * \n",
            "* * * * * * * * * * * * \n",
            "* * * * * * * * * * * * \n",
            "* * * * * * * * * * * * \n"
          ]
        }
      ]
    },
    {
      "cell_type": "code",
      "metadata": {
        "id": "IjVw1urbx_Uj",
        "outputId": "8fe017c8-e88c-4d11-d29f-783f728754c6",
        "colab": {
          "base_uri": "https://localhost:8080/"
        }
      },
      "source": [
        "#Option II\n",
        "def rectangle(m,n):\n",
        "  '''\n",
        "  ***************\n",
        "  *             *\n",
        "  *             *\n",
        "  ***************\n",
        "  '''\n",
        "  return\n",
        "print(rectangle.__doc__)"
      ],
      "execution_count": 22,
      "outputs": [
        {
          "output_type": "stream",
          "name": "stdout",
          "text": [
            "\n",
            "  ***************\n",
            "  *             *\n",
            "  *             *\n",
            "  ***************\n",
            "  \n"
          ]
        }
      ]
    },
    {
      "cell_type": "markdown",
      "metadata": {
        "id": "1hNpHC_Zx_aD"
      },
      "source": [
        "2. Write a function called `sum_digits` that is given an integer `num` and returns the sum of the\n",
        "digits of num.\n",
        "\n",
        "  Գրել `sum_digits` անունով ֆունկցիա, որը տրված `num` ամբողջ թվի համար  վերադարձնում է այդ թվի թվանշանների գումարը։"
      ]
    },
    {
      "cell_type": "code",
      "metadata": {
        "id": "RHxUsSIArj6I",
        "outputId": "cfd1fc5e-71c6-4b58-96ef-baf393fffa86",
        "colab": {
          "base_uri": "https://localhost:8080/"
        }
      },
      "source": [
        "def sum_digits(num):\n",
        "  sum = 0\n",
        "  for i in str(num):\n",
        "    sum += int(i)\n",
        "  return sum\n",
        "sum_digits(125)"
      ],
      "execution_count": 66,
      "outputs": [
        {
          "output_type": "execute_result",
          "data": {
            "text/plain": [
              "8"
            ]
          },
          "metadata": {},
          "execution_count": 66
        }
      ]
    },
    {
      "cell_type": "markdown",
      "metadata": {
        "id": "YoXFmo3ax_fv"
      },
      "source": [
        "# Unpacking With the Asterisk Operators\n",
        "The single asterisk operator * can be used on any iterable that Python provides, while the double asterisk operator ** can only be used on dictionaries"
      ]
    },
    {
      "cell_type": "code",
      "metadata": {
        "id": "CAp0OzQeBv_p",
        "colab": {
          "base_uri": "https://localhost:8080/"
        },
        "outputId": "4a6a3919-7a44-4159-93a3-d2ce4e5e62ab"
      },
      "source": [
        "my_list = [1, 2, 3]\n",
        "print(my_list)\n",
        "print(*my_list)\n",
        "print([1, 2, 3])\n",
        "print(1, 2, 3)"
      ],
      "execution_count": null,
      "outputs": [
        {
          "output_type": "stream",
          "name": "stdout",
          "text": [
            "[1, 2, 3]\n",
            "1 2 3\n"
          ]
        }
      ]
    },
    {
      "cell_type": "markdown",
      "metadata": {
        "id": "_Bn-arwcBwD9"
      },
      "source": [
        "If your function requires a specific number of arguments, then the iterable you unpack must have the same number of arguments."
      ]
    },
    {
      "cell_type": "code",
      "metadata": {
        "id": "S2u-5q2dBwIF",
        "colab": {
          "base_uri": "https://localhost:8080/"
        },
        "outputId": "f4d312d0-77bb-44ca-d5ff-76c7a945ee30"
      },
      "source": [
        "def my_sum(a, b, c):\n",
        "    print(a + b + c)\n",
        "\n",
        "my_list = (1, 2, 3)\n",
        "my_sum(my_list[0], my_list[1], my_list[2])\n",
        "my_sum(*my_list)"
      ],
      "execution_count": null,
      "outputs": [
        {
          "output_type": "stream",
          "name": "stdout",
          "text": [
            "6\n",
            "6\n"
          ]
        }
      ]
    },
    {
      "cell_type": "markdown",
      "metadata": {
        "id": "Ytth4EppBwL_"
      },
      "source": [
        "# Arbitrary Arguments, *args\n",
        "If you do not know how many arguments that will be passed into your function, add an * before the parameter name in the function definition.\n",
        "\n",
        "This way the function will receive a tuple of arguments, and can access the items accordingly."
      ]
    },
    {
      "cell_type": "code",
      "metadata": {
        "id": "lQmqMqN_BwP_",
        "colab": {
          "base_uri": "https://localhost:8080/"
        },
        "outputId": "4b22dc0f-a4b8-4e70-fd81-bfb0633ffa8f"
      },
      "source": [
        "def multiply(*args):\n",
        "    # args = (1, 2, 3, 4, 5, 56, 7, 10 , 124)\n",
        "    result = 1\n",
        "    print(type(args))\n",
        "    # for arg in args:\n",
        "    #     result *= arg\n",
        "\n",
        "    return sum(args)\n",
        "\n",
        "multiply(1, 2, 3, 4, 5, 56, 7, 10 , 124)"
      ],
      "execution_count": null,
      "outputs": [
        {
          "output_type": "stream",
          "name": "stdout",
          "text": [
            "<class 'tuple'>\n"
          ]
        },
        {
          "output_type": "execute_result",
          "data": {
            "text/plain": [
              "212"
            ]
          },
          "metadata": {},
          "execution_count": 50
        }
      ]
    },
    {
      "cell_type": "code",
      "metadata": {
        "id": "a6uPS52mBwUP",
        "colab": {
          "base_uri": "https://localhost:8080/"
        },
        "outputId": "1ea664d5-f6c0-4e54-95ed-ee33087f1fab"
      },
      "source": [
        "# example with first extra argument\n",
        "def multiply(arg1, *args): \n",
        "    print(arg1) \n",
        "    print(args)\n",
        "    result = arg1\n",
        "    print(\"First argument :\", arg1)\n",
        "    for arg in args:\n",
        "        result *= arg\n",
        "    return result\n",
        "\n",
        "multiply(2)\n"
      ],
      "execution_count": null,
      "outputs": [
        {
          "output_type": "stream",
          "name": "stdout",
          "text": [
            "2\n",
            "()\n",
            "First argument : 2\n"
          ]
        },
        {
          "output_type": "execute_result",
          "data": {
            "text/plain": [
              "2"
            ]
          },
          "metadata": {},
          "execution_count": 58
        }
      ]
    },
    {
      "cell_type": "code",
      "source": [
        "multiply(1, 2, 3)"
      ],
      "metadata": {
        "colab": {
          "base_uri": "https://localhost:8080/"
        },
        "id": "0ciLOj1xNytk",
        "outputId": "04b54187-4bf4-4317-cd60-0a99eec27ecf"
      },
      "execution_count": null,
      "outputs": [
        {
          "output_type": "stream",
          "name": "stdout",
          "text": [
            "1\n",
            "(2, 3)\n",
            "First argument : 1\n"
          ]
        },
        {
          "output_type": "execute_result",
          "data": {
            "text/plain": [
              "6"
            ]
          },
          "metadata": {},
          "execution_count": 59
        }
      ]
    },
    {
      "cell_type": "markdown",
      "metadata": {
        "id": "97oOYnp6BwYP"
      },
      "source": [
        "# Keyword Arguments, **kwargs\n",
        "We can also send arguments with the **key = value** syntax."
      ]
    },
    {
      "cell_type": "code",
      "metadata": {
        "id": "CfDg_Wqvuh4j"
      },
      "source": [],
      "execution_count": null,
      "outputs": []
    },
    {
      "cell_type": "code",
      "metadata": {
        "id": "8Unyxt-kBwcV",
        "colab": {
          "base_uri": "https://localhost:8080/"
        },
        "outputId": "2ac37ee2-7ba7-4399-9e77-9408380c691d"
      },
      "source": [
        "def concatenate(**kwargs):\n",
        "    result = \"\"\n",
        "    print(type(kwargs))\n",
        "    print(kwargs)\n",
        "    # Iterating over the Python kwargs dictionary\n",
        "    for arg in kwargs.values():\n",
        "        result += arg + ' '\n",
        "    return result\n",
        "\n",
        "print(concatenate(a=\"Python\", b=\"Is\", c=\"Great\", d=\"!\"))"
      ],
      "execution_count": null,
      "outputs": [
        {
          "output_type": "stream",
          "name": "stdout",
          "text": [
            "<class 'dict'>\n",
            "{'a': 'Python', 'b': 'Is', 'c': 'Great', 'd': '!'}\n",
            "Python Is Great ! \n"
          ]
        }
      ]
    },
    {
      "cell_type": "code",
      "metadata": {
        "id": "OQxRXiHkBwgC",
        "colab": {
          "base_uri": "https://localhost:8080/"
        },
        "outputId": "54e9ddad-21fa-45e6-d840-f20947ab6c63"
      },
      "source": [
        "def concatenate(**kwargs):\n",
        "    result = \"\"\n",
        "    # Iterating over the keys of the Python kwargs dictionary\n",
        "    for arg in kwargs:  # kwargs.keys()\n",
        "        result += arg\n",
        "    return result\n",
        "\n",
        "print(concatenate(a=\"Python\", b=\"Is\", c=\"Great\", d=\"!\"))"
      ],
      "execution_count": null,
      "outputs": [
        {
          "output_type": "stream",
          "name": "stdout",
          "text": [
            "abcd\n"
          ]
        }
      ]
    },
    {
      "cell_type": "code",
      "metadata": {
        "id": "IyXC_WLXBwki",
        "colab": {
          "base_uri": "https://localhost:8080/"
        },
        "outputId": "4465e1ed-df81-41b1-9c7f-f047f287cdec"
      },
      "source": [
        "a = 8\n",
        "\n",
        "def my_sum(x, y, **kwargs):\n",
        "  print(kwargs)\n",
        "  if 'z' in kwargs:\n",
        "    return x + y + kwargs['z']\n",
        "  return x + y\n",
        "\n",
        "my_sum(2, 3) "
      ],
      "execution_count": null,
      "outputs": [
        {
          "output_type": "stream",
          "name": "stdout",
          "text": [
            "{}\n"
          ]
        },
        {
          "output_type": "execute_result",
          "data": {
            "text/plain": [
              "5"
            ]
          },
          "metadata": {},
          "execution_count": 65
        }
      ]
    },
    {
      "cell_type": "markdown",
      "metadata": {
        "id": "5Er_M2HnBwok"
      },
      "source": [
        "The `*args` variable must be listed before `**kwargs`."
      ]
    },
    {
      "cell_type": "code",
      "metadata": {
        "id": "AsKRg-RBBwsp",
        "colab": {
          "base_uri": "https://localhost:8080/"
        },
        "outputId": "e15ed9e7-10a8-412b-8757-fb9197ea5ffa"
      },
      "source": [
        "def my_function(a, b, *args, **kwargs):\n",
        "    h = \"\"\n",
        "    for i in args:\n",
        "      h += i\n",
        "    print(h)\n",
        "    print(kwargs)\n",
        "    print(a)\n",
        "    print(b)\n",
        "\n",
        "my_function(1, 2, '45', '65', ab='45')\n",
        "my_function(1, 2, '45', '65', **dict(ab='45'))\n",
        "my_function(1, 2, *['45', '65'], **{'ab':'45'})"
      ],
      "execution_count": null,
      "outputs": [
        {
          "output_type": "stream",
          "name": "stdout",
          "text": [
            "4565\n",
            "{'ab': '45'}\n",
            "1\n",
            "2\n",
            "4565\n",
            "{'ab': '45'}\n",
            "1\n",
            "2\n",
            "4565\n",
            "{'ab': '45'}\n",
            "1\n",
            "2\n"
          ]
        }
      ]
    },
    {
      "cell_type": "markdown",
      "metadata": {
        "id": "ZBrv4o-hEedc"
      },
      "source": [
        "\n",
        "If you want to set default values, mind [this](https://stackoverflow.com/questions/15301999/default-arguments-with-args-and-kwargs)."
      ]
    },
    {
      "cell_type": "code",
      "metadata": {
        "id": "1AsMqmPOEMF-",
        "colab": {
          "base_uri": "https://localhost:8080/"
        },
        "outputId": "55941268-c8c5-4094-cad4-2268ac07da23"
      },
      "source": [
        "def my_function(a, b, *args, **kwargs):\n",
        "    h = \"\"\n",
        "    for i in args:\n",
        "      h += i\n",
        "    print(h)\n",
        "    print(kwargs)\n",
        "    print(a)\n",
        "    print(b)\n",
        "\n",
        "# my_function(1)\n",
        "my_function(1, **dict(ab='45', b=123))"
      ],
      "execution_count": null,
      "outputs": [
        {
          "output_type": "stream",
          "name": "stdout",
          "text": [
            "\n",
            "{'ab': '45'}\n",
            "1\n",
            "123\n"
          ]
        }
      ]
    },
    {
      "cell_type": "code",
      "metadata": {
        "id": "ATerrAiUBwxA",
        "colab": {
          "base_uri": "https://localhost:8080/",
          "height": 131
        },
        "outputId": "be5ea5d8-e1a2-4a14-cdeb-e6a8dbbae657"
      },
      "source": [
        "# wrong_function_definition.py\n",
        "def my_function(a, b, c=23, *args, **kwargs):\n",
        "    pass"
      ],
      "execution_count": null,
      "outputs": [
        {
          "output_type": "error",
          "ename": "SyntaxError",
          "evalue": "ignored",
          "traceback": [
            "\u001b[0;36m  File \u001b[0;32m\"<ipython-input-76-03254682dd0e>\"\u001b[0;36m, line \u001b[0;32m2\u001b[0m\n\u001b[0;31m    def my_function(a, b, **kwargs, *args):\u001b[0m\n\u001b[0m                                    ^\u001b[0m\n\u001b[0;31mSyntaxError\u001b[0m\u001b[0;31m:\u001b[0m invalid syntax\n"
          ]
        }
      ]
    },
    {
      "cell_type": "markdown",
      "metadata": {
        "id": "iLAkn765Bw1W"
      },
      "source": [
        "# Docstrings\n",
        "\n"
      ]
    },
    {
      "cell_type": "code",
      "metadata": {
        "id": "zfZhaF7fBw5T"
      },
      "source": [
        "# always write a docstring for your functions\n",
        "# Try to write what function does in a single sentence\n",
        "# after skip a row and describe your arguments\n",
        "# after skip a row and describe what is returned\n",
        "\n",
        "def my_simple_func(a, b):\n",
        "    \n",
        "    \"\"\"Function which returns difference of 2 numbers\n",
        "    \n",
        "       a (int): first number\n",
        "       b (int): second number\n",
        "       \n",
        "       return (int): difference between first and second numbers\n",
        "    \"\"\"\n",
        "    \n",
        "    return a - b"
      ],
      "execution_count": 17,
      "outputs": []
    },
    {
      "cell_type": "markdown",
      "metadata": {
        "id": "XfrW6fz0Bw-A"
      },
      "source": [
        "As you can see 3 quotes (\"\"\") can be used as multiline comments instead putting multiple #s."
      ]
    },
    {
      "cell_type": "code",
      "metadata": {
        "id": "lmOwOqpDBxCe",
        "colab": {
          "base_uri": "https://localhost:8080/"
        },
        "outputId": "95ea1c23-9831-423e-d96f-3aa7a80082c4"
      },
      "source": [
        "# you can access docstring of any function with .__doc__ method\n",
        "print(my_simple_func.__doc__)"
      ],
      "execution_count": 18,
      "outputs": [
        {
          "output_type": "stream",
          "name": "stdout",
          "text": [
            "Function which returns difference of 2 numbers\n",
            "    \n",
            "       a (int): first number\n",
            "       b (int): second number\n",
            "       \n",
            "       return (int): difference between first and second numbers\n",
            "    \n"
          ]
        }
      ]
    },
    {
      "cell_type": "code",
      "metadata": {
        "id": "l0VuPbYCBxGp",
        "colab": {
          "base_uri": "https://localhost:8080/"
        },
        "outputId": "5736e060-5b99-4a43-b3d7-0703087ac90a"
      },
      "source": [
        "print(range.__doc__)"
      ],
      "execution_count": null,
      "outputs": [
        {
          "output_type": "stream",
          "name": "stdout",
          "text": [
            "range(stop) -> range object\n",
            "range(start, stop[, step]) -> range object\n",
            "\n",
            "Return an object that produces a sequence of integers from start (inclusive)\n",
            "to stop (exclusive) by step.  range(i, j) produces i, i+1, i+2, ..., j-1.\n",
            "start defaults to 0, and stop is omitted!  range(4) produces 0, 1, 2, 3.\n",
            "These are exactly the valid indices for a list of 4 elements.\n",
            "When step is given, it specifies the increment (or decrement).\n"
          ]
        }
      ]
    },
    {
      "cell_type": "markdown",
      "metadata": {
        "id": "8rLWW1zloUO6"
      },
      "source": [
        "# Function Annotations\n",
        "\n",
        "[PEP3107](https://www.python.org/dev/peps/pep-3107/) introduces a syntax for adding arbitrary metadata annotations to Python functions."
      ]
    },
    {
      "cell_type": "code",
      "metadata": {
        "id": "spjXKU-eoUYz"
      },
      "source": [
        "# for example\n",
        "def pick(l: list, index: int) -> int:\n",
        "    return l[index]"
      ],
      "execution_count": null,
      "outputs": []
    },
    {
      "cell_type": "code",
      "metadata": {
        "id": "E-YrAHU7oUi_",
        "colab": {
          "base_uri": "https://localhost:8080/"
        },
        "outputId": "a3714ce2-2798-4e6a-c75b-be9a1cad5f35"
      },
      "source": [
        "x = {'a': 1, 'b': 2}\n",
        "y = {'a': 3, 'd': 4}\n",
        "z = {**x, **y}\n",
        "print(z)"
      ],
      "execution_count": null,
      "outputs": [
        {
          "output_type": "stream",
          "name": "stdout",
          "text": [
            "{'a': 3, 'b': 2, 'd': 4}\n"
          ]
        }
      ]
    },
    {
      "cell_type": "code",
      "source": [
        "a = 1\n",
        "b = 1"
      ],
      "metadata": {
        "id": "rRo_yJlTS4vO"
      },
      "execution_count": null,
      "outputs": []
    },
    {
      "cell_type": "code",
      "source": [
        "a is b"
      ],
      "metadata": {
        "colab": {
          "base_uri": "https://localhost:8080/"
        },
        "id": "1WnDXqG0S7FK",
        "outputId": "31163186-43af-4d66-8205-7faff020db7f"
      },
      "execution_count": null,
      "outputs": [
        {
          "output_type": "execute_result",
          "data": {
            "text/plain": [
              "True"
            ]
          },
          "metadata": {},
          "execution_count": 94
        }
      ]
    }
  ]
}