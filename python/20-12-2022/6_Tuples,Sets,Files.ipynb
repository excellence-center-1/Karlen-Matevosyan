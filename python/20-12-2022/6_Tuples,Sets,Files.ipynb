{
  "nbformat": 4,
  "nbformat_minor": 0,
  "metadata": {
    "colab": {
      "provenance": []
    },
    "kernelspec": {
      "name": "python3",
      "display_name": "Python 3"
    }
  },
  "cells": [
    {
      "cell_type": "markdown",
      "metadata": {
        "id": "0yqMogW605I5"
      },
      "source": [
        "# Tuples\n",
        "\n",
        "Tuples construct simple groups of objects. They are:\n",
        " * Ordered collections of arbitrary objects\n",
        " * Accessed by offset (index)\n",
        " * immutable\n",
        " * Fixed-length, heterogeneous, and arbitrarily nestable "
      ]
    },
    {
      "cell_type": "markdown",
      "metadata": {
        "id": "qhamDCJjMhyR"
      },
      "source": [
        "A tuple is essentially an **immutable list**, which can be created like this:"
      ]
    },
    {
      "cell_type": "code",
      "metadata": {
        "id": "gLlbPGdM1JVx",
        "colab": {
          "base_uri": "https://localhost:8080/",
          "height": 34
        },
        "outputId": "0dcd4e38-39a2-40a6-e8de-54098d27fd04"
      },
      "source": [
        "t = (1, 2, 3, 4, 5) # or t = 1, 2,3,4,5\n",
        "print(type(t))"
      ],
      "execution_count": null,
      "outputs": [
        {
          "output_type": "stream",
          "text": [
            "<class 'tuple'>\n"
          ],
          "name": "stdout"
        }
      ]
    },
    {
      "cell_type": "code",
      "metadata": {
        "id": "oMXGNhho8HyW",
        "colab": {
          "base_uri": "https://localhost:8080/",
          "height": 34
        },
        "outputId": "5f74587c-a16a-4c45-b59e-694eade35211"
      },
      "source": [
        "t = 1,2,3,4,5\n",
        "print(type(t))"
      ],
      "execution_count": null,
      "outputs": [
        {
          "output_type": "stream",
          "text": [
            "<class 'tuple'>\n"
          ],
          "name": "stdout"
        }
      ]
    },
    {
      "cell_type": "markdown",
      "metadata": {
        "id": "iIgh89RR1Jap"
      },
      "source": [
        "* Tuples are enclosed in parentheses (optional). \n",
        "\n",
        "* Indexing and\n",
        "slicing work the same as with lists. "
      ]
    },
    {
      "cell_type": "code",
      "metadata": {
        "id": "c32Kl8Gg1JeB",
        "colab": {
          "base_uri": "https://localhost:8080/",
          "height": 52
        },
        "outputId": "b2ad9390-0b89-46a0-c230-df4b107d5be7"
      },
      "source": [
        "print(t[0])\n",
        "print(t[:3])"
      ],
      "execution_count": null,
      "outputs": [
        {
          "output_type": "stream",
          "text": [
            "1\n",
            "(1, 2, 3)\n"
          ],
          "name": "stdout"
        }
      ]
    },
    {
      "cell_type": "markdown",
      "metadata": {
        "id": "p1nuA8to1JjC"
      },
      "source": [
        "* As with lists, you can get the length of the tuple by using the\n",
        "`len` function"
      ]
    },
    {
      "cell_type": "code",
      "metadata": {
        "id": "sPEwcHom1Jnd",
        "colab": {
          "base_uri": "https://localhost:8080/",
          "height": 34
        },
        "outputId": "87d2d057-c30d-4aea-86ef-bfdea7b2669d"
      },
      "source": [
        "len(t)"
      ],
      "execution_count": null,
      "outputs": [
        {
          "output_type": "execute_result",
          "data": {
            "text/plain": [
              "5"
            ]
          },
          "metadata": {
            "tags": []
          },
          "execution_count": 4
        }
      ]
    },
    {
      "cell_type": "markdown",
      "metadata": {
        "id": "G7SKs8qpgOtj"
      },
      "source": [
        "* concatenation and repetition work the same way"
      ]
    },
    {
      "cell_type": "code",
      "metadata": {
        "id": "bLL4LReQgOG-",
        "colab": {
          "base_uri": "https://localhost:8080/",
          "height": 34
        },
        "outputId": "8c95bb52-db96-454c-ff4f-663e4029125e"
      },
      "source": [
        "# concatenation\n",
        "(1, 2) + (3, 4)"
      ],
      "execution_count": null,
      "outputs": [
        {
          "output_type": "execute_result",
          "data": {
            "text/plain": [
              "(1, 2, 3, 4)"
            ]
          },
          "metadata": {
            "tags": []
          },
          "execution_count": 5
        }
      ]
    },
    {
      "cell_type": "code",
      "metadata": {
        "id": "u04V_Mw-gNza",
        "colab": {
          "base_uri": "https://localhost:8080/",
          "height": 34
        },
        "outputId": "64256806-d2c3-4236-ce5f-316ef1f2f19e"
      },
      "source": [
        "# repetition\n",
        "('name', 'surname') * 4"
      ],
      "execution_count": null,
      "outputs": [
        {
          "output_type": "execute_result",
          "data": {
            "text/plain": [
              "('name', 'surname', 'name', 'surname', 'name', 'surname', 'name', 'surname')"
            ]
          },
          "metadata": {
            "tags": []
          },
          "execution_count": 6
        }
      ]
    },
    {
      "cell_type": "markdown",
      "metadata": {
        "id": "-u7hNsW81Jrq"
      },
      "source": [
        "* tuples also have `count` and `index` methods. "
      ]
    },
    {
      "cell_type": "code",
      "metadata": {
        "id": "7FFy3-v81Jvk",
        "colab": {
          "base_uri": "https://localhost:8080/",
          "height": 52
        },
        "outputId": "cb3c22a4-6e1d-41e8-d75d-0ef5263bcaf8"
      },
      "source": [
        "print(t.count(1))\n",
        "print(t.index(3))"
      ],
      "execution_count": null,
      "outputs": [
        {
          "output_type": "stream",
          "text": [
            "1\n",
            "2\n"
          ],
          "name": "stdout"
        }
      ]
    },
    {
      "cell_type": "code",
      "metadata": {
        "id": "Uxg7FZ2-iJbG",
        "colab": {
          "base_uri": "https://localhost:8080/",
          "height": 167
        },
        "outputId": "5e4a727b-fc7f-47dd-c2c7-df5c2ae7cf6f"
      },
      "source": [
        "t[0] = 4"
      ],
      "execution_count": null,
      "outputs": [
        {
          "output_type": "error",
          "ename": "TypeError",
          "evalue": "ignored",
          "traceback": [
            "\u001b[0;31m---------------------------------------------------------------------------\u001b[0m",
            "\u001b[0;31mTypeError\u001b[0m                                 Traceback (most recent call last)",
            "\u001b[0;32m<ipython-input-8-08a0409f2124>\u001b[0m in \u001b[0;36m<module>\u001b[0;34m()\u001b[0m\n\u001b[0;32m----> 1\u001b[0;31m \u001b[0mt\u001b[0m\u001b[0;34m[\u001b[0m\u001b[0;36m0\u001b[0m\u001b[0;34m]\u001b[0m \u001b[0;34m=\u001b[0m \u001b[0;36m4\u001b[0m\u001b[0;34m\u001b[0m\u001b[0;34m\u001b[0m\u001b[0m\n\u001b[0m",
            "\u001b[0;31mTypeError\u001b[0m: 'tuple' object does not support item assignment"
          ]
        }
      ]
    },
    {
      "cell_type": "markdown",
      "metadata": {
        "id": "KmpIUAwx1J0A"
      },
      "source": [
        "Since a tuple is\n",
        "immutable, it does not have any of the other methods that lists have, like `sort` or `reverse`, as\n",
        "those change the list in place.\n",
        "\n",
        "We have seen tuples already, for examle **dictionary** method `items()` returns a list of tuples."
      ]
    },
    {
      "cell_type": "code",
      "metadata": {
        "id": "1V-rYZjQ1J37",
        "colab": {
          "base_uri": "https://localhost:8080/",
          "height": 34
        },
        "outputId": "7036a9c1-07d2-4fc7-82a7-4e8a38215225"
      },
      "source": [
        "my_dict = {'A':1, 'B':2}\n",
        "print(list(my_dict.items()))"
      ],
      "execution_count": null,
      "outputs": [
        {
          "output_type": "stream",
          "text": [
            "[('A', 1), ('B', 2)]\n"
          ],
          "name": "stdout"
        }
      ]
    },
    {
      "cell_type": "markdown",
      "metadata": {
        "id": "E5B3zkOt1J8M"
      },
      "source": [
        "When we use the following shortcut for exchanging the value of two or more variables, we\n",
        "are actually using tuples:"
      ]
    },
    {
      "cell_type": "code",
      "metadata": {
        "id": "uO9PXu3E1KAr",
        "colab": {
          "base_uri": "https://localhost:8080/",
          "height": 34
        },
        "outputId": "7d096134-418a-40c5-9110-4a35fe83c3f1"
      },
      "source": [
        "a = 1\n",
        "b = 2\n",
        "a, b = b, a\n",
        "print(f'a={a}, b={b}')"
      ],
      "execution_count": null,
      "outputs": [
        {
          "output_type": "stream",
          "text": [
            "a=2, b=1\n"
          ],
          "name": "stdout"
        }
      ]
    },
    {
      "cell_type": "code",
      "metadata": {
        "id": "3nMg2ymsqggY",
        "colab": {
          "base_uri": "https://localhost:8080/",
          "height": 34
        },
        "outputId": "05e08f30-93f7-4bdb-bdd7-fa5bd0d36ec9"
      },
      "source": [
        "# unpacking\n",
        "t = (1, 2, 3)\n",
        "a, b, c = t\n",
        "print(a, b, c)"
      ],
      "execution_count": null,
      "outputs": [
        {
          "output_type": "stream",
          "text": [
            "1 2 3\n"
          ],
          "name": "stdout"
        }
      ]
    },
    {
      "cell_type": "markdown",
      "metadata": {
        "id": "oT6eREyy1KES"
      },
      "source": [
        "One reason why there are both lists and tuples is that in some situations, *you might want an immutable\n",
        "type of list*. \n",
        "\n",
        "For instance, lists cannot serve as keys in dictionaries because the values of\n",
        "lists can change and it would be hard for dictionaries to keep track of. \n",
        "\n",
        "Tuples can serve as keys in dictionaries."
      ]
    },
    {
      "cell_type": "code",
      "metadata": {
        "id": "qCXaIUaN1KIm",
        "colab": {
          "base_uri": "https://localhost:8080/",
          "height": 34
        },
        "outputId": "58acc9cc-6278-4397-c1fb-938054b71c41"
      },
      "source": [
        "my_dict = {('a', 'b'): 20, ('c', 'd'): 40}\n",
        "print(my_dict[('a', 'b')])"
      ],
      "execution_count": null,
      "outputs": [
        {
          "output_type": "stream",
          "text": [
            "20\n"
          ],
          "name": "stdout"
        }
      ]
    },
    {
      "cell_type": "markdown",
      "metadata": {
        "id": "OHUOgl061KNH"
      },
      "source": [
        "Working with tuples are generally faster than lists. The flexibility\n",
        "of lists comes with a cost in speed."
      ]
    },
    {
      "cell_type": "markdown",
      "metadata": {
        "id": "bUmzLQBe1KQ2"
      },
      "source": [
        "To convert an object into a tuple, use tuple. The following example converts a list and\n",
        "a string into tuples:"
      ]
    },
    {
      "cell_type": "code",
      "metadata": {
        "id": "f53iWv1i1KVe",
        "colab": {
          "base_uri": "https://localhost:8080/",
          "height": 52
        },
        "outputId": "e9706592-2390-46a1-9565-5e39a156ca26"
      },
      "source": [
        "t1 = tuple([1,2,3])\n",
        "t2 = tuple('abcde')\n",
        "print(t1)\n",
        "print(t2)"
      ],
      "execution_count": null,
      "outputs": [
        {
          "output_type": "stream",
          "text": [
            "(1, 2, 3)\n",
            "('a', 'b', 'c', 'd', 'e')\n"
          ],
          "name": "stdout"
        }
      ]
    },
    {
      "cell_type": "markdown",
      "metadata": {
        "id": "wdmEh0IX1KZH"
      },
      "source": [
        "The empty tuple is `()`. The way to get a tuple with one element is like this:"
      ]
    },
    {
      "cell_type": "code",
      "metadata": {
        "id": "bXhKyvZF1KdJ",
        "colab": {
          "base_uri": "https://localhost:8080/"
        },
        "outputId": "5b0aa2e5-b8fc-46ea-80f8-b33f2cd0af4c"
      },
      "source": [
        "a = (1,)\n",
        "print(type(a))\n",
        "print(a)"
      ],
      "execution_count": null,
      "outputs": [
        {
          "output_type": "stream",
          "name": "stdout",
          "text": [
            "<class 'tuple'>\n",
            "(1,)\n"
          ]
        }
      ]
    },
    {
      "cell_type": "code",
      "metadata": {
        "id": "-LVbahJx1Khe",
        "colab": {
          "base_uri": "https://localhost:8080/"
        },
        "outputId": "24bec6e7-f6a7-4ca3-b8d6-655672de53aa"
      },
      "source": [
        "a = (1)\n",
        "print(type(a))"
      ],
      "execution_count": null,
      "outputs": [
        {
          "output_type": "stream",
          "name": "stdout",
          "text": [
            "<class 'int'>\n"
          ]
        }
      ]
    },
    {
      "cell_type": "markdown",
      "metadata": {
        "id": "zUcY4FKx1KmI"
      },
      "source": [
        "For example,\n",
        "in the expression `2+(3*4)`, we don't want the (3\\*4) to be a tuple, we want it to evaluate to a\n",
        "number."
      ]
    },
    {
      "cell_type": "markdown",
      "metadata": {
        "id": "BNAqehDHgiYi"
      },
      "source": [
        "As we said earlier, tuples are heterogeneous"
      ]
    },
    {
      "cell_type": "code",
      "metadata": {
        "id": "cNO2Rrz01KqI",
        "colab": {
          "base_uri": "https://localhost:8080/",
          "height": 34
        },
        "outputId": "478da7af-4b80-4e55-bcb4-9071f545ded3"
      },
      "source": [
        "my_tuple = ('a', 5)\n",
        "my_tuple"
      ],
      "execution_count": null,
      "outputs": [
        {
          "output_type": "execute_result",
          "data": {
            "text/plain": [
              "('a', 5)"
            ]
          },
          "metadata": {
            "tags": []
          },
          "execution_count": 18
        }
      ]
    },
    {
      "cell_type": "markdown",
      "metadata": {
        "id": "auyZsSBag66C"
      },
      "source": [
        "If we want to sort the items in a tuple, we can do the following"
      ]
    },
    {
      "cell_type": "code",
      "metadata": {
        "id": "9M1AoCewhflr",
        "colab": {
          "base_uri": "https://localhost:8080/",
          "height": 34
        },
        "outputId": "1a91ca03-be45-4420-8b25-d536db05989d"
      },
      "source": [
        "tup = ('one', 'two', 'three', 'four')\n",
        "\n",
        "tup_list = list(tup)\n",
        "# sorting the list\n",
        "tup_list.sort()\n",
        "print(tup_list)"
      ],
      "execution_count": null,
      "outputs": [
        {
          "output_type": "stream",
          "text": [
            "['four', 'one', 'three', 'two']\n"
          ],
          "name": "stdout"
        }
      ]
    },
    {
      "cell_type": "markdown",
      "metadata": {
        "id": "yTQ6StOFhfQo"
      },
      "source": [
        "we can also use the `sorted` function, which will return a `list`"
      ]
    },
    {
      "cell_type": "code",
      "metadata": {
        "id": "NTtedkvb1KuT",
        "colab": {
          "base_uri": "https://localhost:8080/"
        },
        "outputId": "2d54c0f2-6843-445a-997c-24d9aa895cd0"
      },
      "source": [
        "t = (4, 2, 3, 4)\n",
        "sorted(t)"
      ],
      "execution_count": null,
      "outputs": [
        {
          "output_type": "execute_result",
          "data": {
            "text/plain": [
              "[2, 3, 4, 4]"
            ]
          },
          "metadata": {},
          "execution_count": 6
        }
      ]
    },
    {
      "cell_type": "markdown",
      "metadata": {
        "id": "J05ofhGvhImt"
      },
      "source": [
        "Looping works the same as with lists:"
      ]
    },
    {
      "cell_type": "code",
      "metadata": {
        "id": "-ahZLLmGhMx5",
        "colab": {
          "base_uri": "https://localhost:8080/"
        },
        "outputId": "d501ccc5-5bac-43ed-bee1-15ccbaf2de90"
      },
      "source": [
        "for i in t:\n",
        "  print(i, end=\" \")"
      ],
      "execution_count": null,
      "outputs": [
        {
          "output_type": "stream",
          "name": "stdout",
          "text": [
            "4 2 3 4 "
          ]
        }
      ]
    },
    {
      "cell_type": "markdown",
      "metadata": {
        "id": "lm20ifO7hT21"
      },
      "source": [
        "List comprehensions can also be used to convert tuples to lists"
      ]
    },
    {
      "cell_type": "code",
      "metadata": {
        "id": "94UFwAr11KyY",
        "colab": {
          "base_uri": "https://localhost:8080/"
        },
        "outputId": "8f026a18-b5a4-4803-8bcc-d9fa711a6edd"
      },
      "source": [
        "tupl = (1, 2, 3, 4)\n",
        "new_list = [x**2 for x in tupl]\n",
        "new_list"
      ],
      "execution_count": null,
      "outputs": [
        {
          "output_type": "execute_result",
          "data": {
            "text/plain": [
              "[1, 4, 9, 16]"
            ]
          },
          "metadata": {},
          "execution_count": 8
        }
      ]
    },
    {
      "cell_type": "markdown",
      "metadata": {
        "id": "8WQVUVsDiP7U"
      },
      "source": [
        "We can change mutable objects inside the tuple\n"
      ]
    },
    {
      "cell_type": "code",
      "metadata": {
        "id": "P-Rock0t1K3F",
        "colab": {
          "base_uri": "https://localhost:8080/"
        },
        "outputId": "d4c6a788-bded-49ac-84d9-597c6c6628aa"
      },
      "source": [
        "tp = (1, [2, 3])\n",
        "print(tp)\n",
        "\n",
        "tp[1][0] = 'change'\n",
        "print(tp)"
      ],
      "execution_count": null,
      "outputs": [
        {
          "output_type": "stream",
          "name": "stdout",
          "text": [
            "(1, [2, 3])\n",
            "(1, ['change', 3])\n"
          ]
        }
      ]
    },
    {
      "cell_type": "markdown",
      "metadata": {
        "id": "6ViEVU7g1K7H"
      },
      "source": [
        "## Named Tuples"
      ]
    },
    {
      "cell_type": "markdown",
      "metadata": {
        "id": "k-C8wEV91K_t"
      },
      "source": [
        "Components of such tuples can be accessed by both position and attribute name, much like dictionaries. "
      ]
    },
    {
      "cell_type": "code",
      "metadata": {
        "id": "S3EecJfJ1LGt",
        "colab": {
          "base_uri": "https://localhost:8080/"
        },
        "outputId": "52c9d4e8-06c1-4498-bdb1-a821867fdea8"
      },
      "source": [
        "from collections import namedtuple\n",
        "\n",
        "# making a generated class\n",
        "Grade = namedtuple('Grades', ['Armen', 'Ashot', 'Gevorg'])\n",
        "\n",
        "# the named-tuple\n",
        "grades = Grade(Armen=80, Ashot=85, Gevorg=90)\n",
        "grades"
      ],
      "execution_count": null,
      "outputs": [
        {
          "output_type": "execute_result",
          "data": {
            "text/plain": [
              "Grades(Armen=80, Ashot=85, Gevorg=90)"
            ]
          },
          "metadata": {},
          "execution_count": 11
        }
      ]
    },
    {
      "cell_type": "code",
      "metadata": {
        "id": "qOFfAdTiszXz",
        "colab": {
          "base_uri": "https://localhost:8080/"
        },
        "outputId": "a94464de-4b5d-4530-d497-32b1242407c6"
      },
      "source": [
        "type(grades)"
      ],
      "execution_count": null,
      "outputs": [
        {
          "output_type": "execute_result",
          "data": {
            "text/plain": [
              "__main__.Grades"
            ]
          },
          "metadata": {},
          "execution_count": 12
        }
      ]
    },
    {
      "cell_type": "code",
      "metadata": {
        "id": "H6ozMPko1LL9",
        "colab": {
          "base_uri": "https://localhost:8080/"
        },
        "outputId": "8c9046d9-5f56-40f3-c3fb-3056b3b5739c"
      },
      "source": [
        "print(grades.Armen)\n",
        "print('Ashot:', grades[1])"
      ],
      "execution_count": null,
      "outputs": [
        {
          "output_type": "stream",
          "name": "stdout",
          "text": [
            "80\n",
            "Ashot: 85\n"
          ]
        }
      ]
    },
    {
      "cell_type": "markdown",
      "metadata": {
        "id": "cl-sXqNVqPUf"
      },
      "source": [
        "We can unpack like regular tuples"
      ]
    },
    {
      "cell_type": "code",
      "metadata": {
        "id": "DjrRq7K41LQL",
        "colab": {
          "base_uri": "https://localhost:8080/"
        },
        "outputId": "4c68fc55-8c09-4f43-f573-9f4ce76b4f91"
      },
      "source": [
        "a, b, c = grades\n",
        "print(a, b, c)"
      ],
      "execution_count": null,
      "outputs": [
        {
          "output_type": "stream",
          "name": "stdout",
          "text": [
            "80 85 90\n"
          ]
        }
      ]
    },
    {
      "cell_type": "markdown",
      "metadata": {
        "id": "a6PO84ftq_oS"
      },
      "source": [
        "Named tuples are also immutable"
      ]
    },
    {
      "cell_type": "code",
      "metadata": {
        "id": "yBpQfq9F1LXL",
        "colab": {
          "base_uri": "https://localhost:8080/",
          "height": 201
        },
        "outputId": "a127b69c-88ca-4e6c-df77-84dd1a7bd4ef"
      },
      "source": [
        "grades.Armen = 10"
      ],
      "execution_count": null,
      "outputs": [
        {
          "output_type": "error",
          "ename": "AttributeError",
          "evalue": "ignored",
          "traceback": [
            "\u001b[0;31m---------------------------------------------------------------------------\u001b[0m",
            "\u001b[0;31mAttributeError\u001b[0m                            Traceback (most recent call last)",
            "\u001b[0;32m<ipython-input-15-b5b6bf6300b6>\u001b[0m in \u001b[0;36m<module>\u001b[0;34m\u001b[0m\n\u001b[0;32m----> 1\u001b[0;31m \u001b[0mgrades\u001b[0m\u001b[0;34m.\u001b[0m\u001b[0mArmen\u001b[0m \u001b[0;34m=\u001b[0m \u001b[0;36m10\u001b[0m\u001b[0;34m\u001b[0m\u001b[0;34m\u001b[0m\u001b[0m\n\u001b[0m",
            "\u001b[0;31mAttributeError\u001b[0m: can't set attribute"
          ]
        }
      ]
    },
    {
      "cell_type": "markdown",
      "metadata": {
        "id": "ULEwW-CVs5ST"
      },
      "source": [
        "We can convert into a dictionary"
      ]
    },
    {
      "cell_type": "code",
      "metadata": {
        "id": "dtVc4K431Lbw",
        "colab": {
          "base_uri": "https://localhost:8080/"
        },
        "outputId": "55fdd384-d531-402c-f5c6-3ffa21da2e38"
      },
      "source": [
        "tuple_to_dict = grades._asdict()\n",
        "print(tuple_to_dict['Armen'])\n",
        "print(tuple_to_dict)"
      ],
      "execution_count": null,
      "outputs": [
        {
          "output_type": "stream",
          "name": "stdout",
          "text": [
            "80\n",
            "{'Armen': 80, 'Ashot': 85, 'Gevorg': 90}\n"
          ]
        }
      ]
    },
    {
      "cell_type": "code",
      "metadata": {
        "id": "QSiDvnEY1Lgi",
        "colab": {
          "base_uri": "https://localhost:8080/"
        },
        "outputId": "eedebcfa-314d-4ef4-c9b7-a80d73aae40f"
      },
      "source": [
        "for x in grades: print(x)"
      ],
      "execution_count": null,
      "outputs": [
        {
          "output_type": "stream",
          "name": "stdout",
          "text": [
            "80\n",
            "85\n",
            "90\n"
          ]
        }
      ]
    },
    {
      "cell_type": "markdown",
      "metadata": {
        "id": "tpMomTC71Lj2"
      },
      "source": [
        "# Set"
      ]
    },
    {
      "cell_type": "markdown",
      "metadata": {
        "id": "8tp3Hegd1LpX"
      },
      "source": [
        "Set is an **unordered** collection of **unique** and **immutable objects** that supports operations corresponding to mathematical set theory. \n",
        "\n",
        "* An item appears only once in a set, no matter how many times it is added. \n",
        "* Sets can be used to filter duplicates out of other collections, though items may be reordered in the process because sets are unordered in general."
      ]
    },
    {
      "cell_type": "code",
      "metadata": {
        "id": "p_oQgVDZubkS",
        "colab": {
          "base_uri": "https://localhost:8080/"
        },
        "outputId": "6762c50a-a9a7-4115-842a-74c91920aa3f"
      },
      "source": [
        "my_set = {1, 2, 3, 3, 4, 4, 5}\n",
        "my_set"
      ],
      "execution_count": null,
      "outputs": [
        {
          "output_type": "execute_result",
          "data": {
            "text/plain": [
              "{(1, 2), 2, 3, 4, 5}"
            ]
          },
          "metadata": {},
          "execution_count": 20
        }
      ]
    },
    {
      "cell_type": "code",
      "metadata": {
        "id": "u8099w9V1Lv5",
        "colab": {
          "base_uri": "https://localhost:8080/",
          "height": 34
        },
        "outputId": "939cf0bb-7637-4052-e91e-79dc76ca0b46"
      },
      "source": [
        "# built-in call for sets\n",
        "my_set = set([1, 2, 3, 3, 4, 4, 5])\n",
        "my_set"
      ],
      "execution_count": null,
      "outputs": [
        {
          "output_type": "execute_result",
          "data": {
            "text/plain": [
              "{1, 2, 3, 4, 5}"
            ]
          },
          "metadata": {
            "tags": []
          },
          "execution_count": 35
        }
      ]
    },
    {
      "cell_type": "code",
      "metadata": {
        "id": "ezXxD0IB2dbX",
        "colab": {
          "base_uri": "https://localhost:8080/"
        },
        "outputId": "3d2aa757-f506-49e1-a61e-9018f310dda8"
      },
      "source": [
        "# built-in call for sets\n",
        "my_set = set({1, 2, 3, 3, 4, 4, 5})\n",
        "my_set"
      ],
      "execution_count": null,
      "outputs": [
        {
          "output_type": "execute_result",
          "data": {
            "text/plain": [
              "{1, 2, 3, 4, 5}"
            ]
          },
          "metadata": {},
          "execution_count": 28
        }
      ]
    },
    {
      "cell_type": "code",
      "metadata": {
        "id": "xw1TgqZtWVsL",
        "colab": {
          "base_uri": "https://localhost:8080/"
        },
        "outputId": "7d997a76-b59b-4f73-ac6b-75edd9bc7889"
      },
      "source": [
        "print(set('this is a test'))"
      ],
      "execution_count": null,
      "outputs": [
        {
          "output_type": "stream",
          "name": "stdout",
          "text": [
            "{'s', 'h', 't', ' ', 'e', 'a', 'i'}\n"
          ]
        }
      ]
    },
    {
      "cell_type": "markdown",
      "metadata": {
        "id": "_42jtdDhumfY"
      },
      "source": [
        "We can add more elements with `add()` method"
      ]
    },
    {
      "cell_type": "code",
      "metadata": {
        "id": "JghPc2sh1L3-",
        "colab": {
          "base_uri": "https://localhost:8080/"
        },
        "outputId": "625d4992-1b18-4dee-ca6b-ff29cb7cbee2"
      },
      "source": [
        "my_set.add('new_element')\n",
        "print(my_set)"
      ],
      "execution_count": null,
      "outputs": [
        {
          "output_type": "stream",
          "name": "stdout",
          "text": [
            "{1, 2, 3, 4, 5, 'new_element'}\n"
          ]
        }
      ]
    },
    {
      "cell_type": "markdown",
      "metadata": {
        "id": "tQzZxn5cW2Pg"
      },
      "source": [
        "We can remove elements with `remove()` method"
      ]
    },
    {
      "cell_type": "code",
      "metadata": {
        "id": "KEf4DBxGW63M",
        "colab": {
          "base_uri": "https://localhost:8080/"
        },
        "outputId": "bbad9456-4ee6-4339-f98e-9a27e10e4965"
      },
      "source": [
        "my_set.remove('new_element')\n",
        "print(my_set)"
      ],
      "execution_count": null,
      "outputs": [
        {
          "output_type": "stream",
          "name": "stdout",
          "text": [
            "{1, 2, 3, 4, 5}\n"
          ]
        }
      ]
    },
    {
      "cell_type": "code",
      "metadata": {
        "id": "CoCnOcx_1L12"
      },
      "source": [
        "other_set = {1, 2, 8, 9}"
      ],
      "execution_count": null,
      "outputs": []
    },
    {
      "cell_type": "code",
      "metadata": {
        "id": "y_8G1oUL1LtC",
        "colab": {
          "base_uri": "https://localhost:8080/"
        },
        "outputId": "a6db96b8-d967-47c5-cf78-96a5dc681680"
      },
      "source": [
        "# intersection of 2 sets\n",
        "my_set & other_set "
      ],
      "execution_count": null,
      "outputs": [
        {
          "output_type": "execute_result",
          "data": {
            "text/plain": [
              "{1, 2}"
            ]
          },
          "metadata": {},
          "execution_count": 32
        }
      ]
    },
    {
      "cell_type": "code",
      "metadata": {
        "id": "F_NwVP0M1LT0",
        "colab": {
          "base_uri": "https://localhost:8080/"
        },
        "outputId": "39fe1e59-d685-4421-b348-aa33fd9b3616"
      },
      "source": [
        "# union of 2 sets\n",
        "my_set | other_set "
      ],
      "execution_count": null,
      "outputs": [
        {
          "output_type": "execute_result",
          "data": {
            "text/plain": [
              "{1, 2, 3, 4, 5, 8, 9}"
            ]
          },
          "metadata": {},
          "execution_count": 33
        }
      ]
    },
    {
      "cell_type": "code",
      "metadata": {
        "id": "ZSghDkYL1LEt",
        "colab": {
          "base_uri": "https://localhost:8080/"
        },
        "outputId": "1d91e644-dde2-4aba-c8af-0f96a8310992"
      },
      "source": [
        "# difference between 2 sets\n",
        "my_set - other_set"
      ],
      "execution_count": null,
      "outputs": [
        {
          "output_type": "execute_result",
          "data": {
            "text/plain": [
              "{3, 4, 5}"
            ]
          },
          "metadata": {},
          "execution_count": 34
        }
      ]
    },
    {
      "cell_type": "code",
      "metadata": {
        "id": "ShNnuyoCBUl8",
        "colab": {
          "base_uri": "https://localhost:8080/"
        },
        "outputId": "b59b264f-90c8-4170-c82b-7265a9c7b19d"
      },
      "source": [
        "my_set ^ other_set"
      ],
      "execution_count": null,
      "outputs": [
        {
          "output_type": "execute_result",
          "data": {
            "text/plain": [
              "{3, 4, 5, 8, 9}"
            ]
          },
          "metadata": {},
          "execution_count": 35
        }
      ]
    },
    {
      "cell_type": "code",
      "metadata": {
        "id": "vP1114_f1kE5",
        "colab": {
          "base_uri": "https://localhost:8080/",
          "height": 34
        },
        "outputId": "7fc76298-d98e-49fa-c374-7aa1b3a1dee7"
      },
      "source": [
        "# symmetric difference\n",
        "{5, 6, 3} ^ {3, 4}"
      ],
      "execution_count": null,
      "outputs": [
        {
          "output_type": "execute_result",
          "data": {
            "text/plain": [
              "{4, 5, 6}"
            ]
          },
          "metadata": {
            "tags": []
          },
          "execution_count": 44
        }
      ]
    },
    {
      "cell_type": "code",
      "metadata": {
        "id": "7rFKS8nx3x9C",
        "colab": {
          "base_uri": "https://localhost:8080/"
        },
        "outputId": "43934388-915c-41c3-b43c-235394789a24"
      },
      "source": [
        "s = set()\n",
        "s.add(5)\n",
        "s.add(4)\n",
        "print(s)"
      ],
      "execution_count": null,
      "outputs": [
        {
          "output_type": "stream",
          "name": "stdout",
          "text": [
            "{4, 5}\n"
          ]
        }
      ]
    },
    {
      "cell_type": "code",
      "metadata": {
        "id": "F_eRI1aQBs2g",
        "colab": {
          "base_uri": "https://localhost:8080/"
        },
        "outputId": "1ec0c8b1-43d4-4fa1-d6a0-50c9fa0aebca"
      },
      "source": [
        "print(my_set)\n",
        "print(other_set)"
      ],
      "execution_count": null,
      "outputs": [
        {
          "output_type": "stream",
          "name": "stdout",
          "text": [
            "{1, 2, 3, 4, 5}\n",
            "{8, 1, 2, 9}\n"
          ]
        }
      ]
    },
    {
      "cell_type": "code",
      "metadata": {
        "id": "ReqNSEI_1kKO",
        "colab": {
          "base_uri": "https://localhost:8080/"
        },
        "outputId": "890f1737-613a-4e24-ae82-4f2b62599296"
      },
      "source": [
        "# superset (set that includes the other set)\n",
        "print(my_set > other_set)"
      ],
      "execution_count": null,
      "outputs": [
        {
          "output_type": "stream",
          "name": "stdout",
          "text": [
            "False\n"
          ]
        }
      ]
    },
    {
      "cell_type": "code",
      "metadata": {
        "id": "U8Mq_2OCXFYh",
        "colab": {
          "base_uri": "https://localhost:8080/"
        },
        "outputId": "d2c8a4d7-726b-45dd-bd17-f9820e7ad67e"
      },
      "source": [
        "my_set.issuperset(other_set)"
      ],
      "execution_count": null,
      "outputs": [
        {
          "output_type": "execute_result",
          "data": {
            "text/plain": [
              "False"
            ]
          },
          "metadata": {},
          "execution_count": 40
        }
      ]
    },
    {
      "cell_type": "code",
      "metadata": {
        "id": "R8n0k_xNXL22",
        "colab": {
          "base_uri": "https://localhost:8080/"
        },
        "outputId": "d7e05ebf-06e6-4adf-a39e-2cbc433ac615"
      },
      "source": [
        "# subset (set that belongs the other set)\n",
        "print(my_set < other_set)"
      ],
      "execution_count": null,
      "outputs": [
        {
          "output_type": "stream",
          "name": "stdout",
          "text": [
            "False\n"
          ]
        }
      ]
    },
    {
      "cell_type": "code",
      "metadata": {
        "id": "E1DnewDQXMIo",
        "colab": {
          "base_uri": "https://localhost:8080/"
        },
        "outputId": "ef7a9933-c160-4f55-861c-2eb3bd3a1b2f"
      },
      "source": [
        "my_set.issubset(other_set)"
      ],
      "execution_count": null,
      "outputs": [
        {
          "output_type": "execute_result",
          "data": {
            "text/plain": [
              "False"
            ]
          },
          "metadata": {},
          "execution_count": 42
        }
      ]
    },
    {
      "cell_type": "code",
      "metadata": {
        "id": "pE1ob0NpWjH4",
        "colab": {
          "base_uri": "https://localhost:8080/"
        },
        "outputId": "019f5c34-cb1a-4814-e29a-92d4f04d2e82"
      },
      "source": [
        "# in operator\n",
        "3 in my_set"
      ],
      "execution_count": null,
      "outputs": [
        {
          "output_type": "execute_result",
          "data": {
            "text/plain": [
              "True"
            ]
          },
          "metadata": {},
          "execution_count": 43
        }
      ]
    },
    {
      "cell_type": "code",
      "metadata": {
        "id": "9e0RnwSi1kP1",
        "colab": {
          "base_uri": "https://localhost:8080/"
        },
        "outputId": "b7677110-d480-4d47-c74f-c5334e05d2eb"
      },
      "source": [
        "# because sets have {} (curly brackets) like dicts\n",
        "# empty sets are initicalized differently\n",
        "s = set()\n",
        "s.add(2)\n",
        "print(s) "
      ],
      "execution_count": null,
      "outputs": [
        {
          "output_type": "stream",
          "name": "stdout",
          "text": [
            "{2}\n"
          ]
        }
      ]
    },
    {
      "cell_type": "code",
      "metadata": {
        "id": "K-ofwxF61kUj",
        "colab": {
          "base_uri": "https://localhost:8080/"
        },
        "outputId": "257e611d-4931-4130-dbef-8ed78b5da570"
      },
      "source": [
        "some_set = [1, 1, 1, 3, 3, 2, 2, 4, 4]\n",
        "\n",
        "# remove duplicates\n",
        "removed_duplicates = list(set(some_set))\n",
        "removed_duplicates\n",
        "# note that the order is not the same!"
      ],
      "execution_count": null,
      "outputs": [
        {
          "output_type": "execute_result",
          "data": {
            "text/plain": [
              "[1, 2, 3, 4]"
            ]
          },
          "metadata": {},
          "execution_count": 47
        }
      ]
    },
    {
      "cell_type": "code",
      "metadata": {
        "id": "IO-zNX6f1kZM",
        "colab": {
          "base_uri": "https://localhost:8080/"
        },
        "outputId": "a876a866-923c-440e-b5cb-5e04314b2429"
      },
      "source": [
        "# set comprehension \n",
        "new_set = {x ** 2 for x in [1, 2, 3, 4]} \n",
        "new_set"
      ],
      "execution_count": null,
      "outputs": [
        {
          "output_type": "execute_result",
          "data": {
            "text/plain": [
              "{1, 4, 9, 16}"
            ]
          },
          "metadata": {},
          "execution_count": 48
        }
      ]
    },
    {
      "cell_type": "markdown",
      "metadata": {
        "id": "2HC-fzrz1keI"
      },
      "source": [
        "Sets can only contain immutable object types, so `lists` and `dictionaries` cannot be embedded in sets, but tuples can.  \n",
        "\n",
        "Sets themselves are mutable too, and so cannot be nested in other sets directly; if you need to store a set inside another set, the **frozenset** creates an immutable set that cannot change and thus can be embedded in other sets."
      ]
    },
    {
      "cell_type": "code",
      "metadata": {
        "id": "dcBxG-Za1kio",
        "colab": {
          "base_uri": "https://localhost:8080/",
          "height": 201
        },
        "outputId": "39e08de0-d531-4d1a-bba2-b896a7e002a5"
      },
      "source": [
        "s.add([1, 2, 3])"
      ],
      "execution_count": null,
      "outputs": [
        {
          "output_type": "error",
          "ename": "TypeError",
          "evalue": "ignored",
          "traceback": [
            "\u001b[0;31m---------------------------------------------------------------------------\u001b[0m",
            "\u001b[0;31mTypeError\u001b[0m                                 Traceback (most recent call last)",
            "\u001b[0;32m<ipython-input-49-66452cf70b8f>\u001b[0m in \u001b[0;36m<module>\u001b[0;34m\u001b[0m\n\u001b[0;32m----> 1\u001b[0;31m \u001b[0ms\u001b[0m\u001b[0;34m.\u001b[0m\u001b[0madd\u001b[0m\u001b[0;34m(\u001b[0m\u001b[0;34m[\u001b[0m\u001b[0;36m1\u001b[0m\u001b[0;34m,\u001b[0m \u001b[0;36m2\u001b[0m\u001b[0;34m,\u001b[0m \u001b[0;36m3\u001b[0m\u001b[0;34m]\u001b[0m\u001b[0;34m)\u001b[0m\u001b[0;34m\u001b[0m\u001b[0;34m\u001b[0m\u001b[0m\n\u001b[0m",
            "\u001b[0;31mTypeError\u001b[0m: unhashable type: 'list'"
          ]
        }
      ]
    },
    {
      "cell_type": "code",
      "metadata": {
        "id": "MqP2tNAH1kn0",
        "colab": {
          "base_uri": "https://localhost:8080/",
          "height": 201
        },
        "outputId": "c26e0b1d-627b-4d4d-e8f3-b2f049618b3b"
      },
      "source": [
        "s.add({'one': 1})"
      ],
      "execution_count": null,
      "outputs": [
        {
          "output_type": "error",
          "ename": "TypeError",
          "evalue": "ignored",
          "traceback": [
            "\u001b[0;31m---------------------------------------------------------------------------\u001b[0m",
            "\u001b[0;31mTypeError\u001b[0m                                 Traceback (most recent call last)",
            "\u001b[0;32m<ipython-input-50-30b58de0875f>\u001b[0m in \u001b[0;36m<module>\u001b[0;34m\u001b[0m\n\u001b[0;32m----> 1\u001b[0;31m \u001b[0ms\u001b[0m\u001b[0;34m.\u001b[0m\u001b[0madd\u001b[0m\u001b[0;34m(\u001b[0m\u001b[0;34m{\u001b[0m\u001b[0;34m'one'\u001b[0m\u001b[0;34m:\u001b[0m \u001b[0;36m1\u001b[0m\u001b[0;34m}\u001b[0m\u001b[0;34m)\u001b[0m\u001b[0;34m\u001b[0m\u001b[0;34m\u001b[0m\u001b[0m\n\u001b[0m",
            "\u001b[0;31mTypeError\u001b[0m: unhashable type: 'dict'"
          ]
        }
      ]
    },
    {
      "cell_type": "code",
      "metadata": {
        "id": "P0tsY2n2xR5S",
        "colab": {
          "base_uri": "https://localhost:8080/",
          "height": 201
        },
        "outputId": "83739263-f3e6-4a6a-b23d-66729b1bb8e8"
      },
      "source": [
        "s.add({1, 2, 3})"
      ],
      "execution_count": null,
      "outputs": [
        {
          "output_type": "error",
          "ename": "TypeError",
          "evalue": "ignored",
          "traceback": [
            "\u001b[0;31m---------------------------------------------------------------------------\u001b[0m",
            "\u001b[0;31mTypeError\u001b[0m                                 Traceback (most recent call last)",
            "\u001b[0;32m<ipython-input-51-2b7b42142396>\u001b[0m in \u001b[0;36m<module>\u001b[0;34m\u001b[0m\n\u001b[0;32m----> 1\u001b[0;31m \u001b[0ms\u001b[0m\u001b[0;34m.\u001b[0m\u001b[0madd\u001b[0m\u001b[0;34m(\u001b[0m\u001b[0;34m{\u001b[0m\u001b[0;36m1\u001b[0m\u001b[0;34m,\u001b[0m \u001b[0;36m2\u001b[0m\u001b[0;34m,\u001b[0m \u001b[0;36m3\u001b[0m\u001b[0;34m}\u001b[0m\u001b[0;34m)\u001b[0m\u001b[0;34m\u001b[0m\u001b[0;34m\u001b[0m\u001b[0m\n\u001b[0m",
            "\u001b[0;31mTypeError\u001b[0m: unhashable type: 'set'"
          ]
        }
      ]
    },
    {
      "cell_type": "code",
      "metadata": {
        "id": "2_d8DvUT1ksq",
        "colab": {
          "base_uri": "https://localhost:8080/"
        },
        "outputId": "133b79b9-1301-4cce-fce2-f9b9f1374299"
      },
      "source": [
        "s.add(('one', 1))\n",
        "print(s)"
      ],
      "execution_count": null,
      "outputs": [
        {
          "output_type": "stream",
          "name": "stdout",
          "text": [
            "{2, ('one', 1)}\n"
          ]
        }
      ]
    },
    {
      "cell_type": "markdown",
      "metadata": {
        "id": "aCVqs3HC1kxo"
      },
      "source": [
        "## Frozen Set"
      ]
    },
    {
      "cell_type": "code",
      "metadata": {
        "id": "QjNP33y21k1u",
        "colab": {
          "base_uri": "https://localhost:8080/"
        },
        "outputId": "90efe295-0972-45fe-9c46-ee0ba9d9ed57"
      },
      "source": [
        "my_set = frozenset((1, 2, 3))\n",
        "print(my_set)"
      ],
      "execution_count": null,
      "outputs": [
        {
          "output_type": "stream",
          "name": "stdout",
          "text": [
            "frozenset({1, 2, 3})\n"
          ]
        }
      ]
    },
    {
      "cell_type": "code",
      "metadata": {
        "id": "zeyhGu9gD4of",
        "colab": {
          "base_uri": "https://localhost:8080/",
          "height": 201
        },
        "outputId": "46557867-a10d-4452-c129-37e20562e9f2"
      },
      "source": [
        "my_set.add(2)"
      ],
      "execution_count": null,
      "outputs": [
        {
          "output_type": "error",
          "ename": "AttributeError",
          "evalue": "ignored",
          "traceback": [
            "\u001b[0;31m---------------------------------------------------------------------------\u001b[0m",
            "\u001b[0;31mAttributeError\u001b[0m                            Traceback (most recent call last)",
            "\u001b[0;32m<ipython-input-54-6bf27767c39a>\u001b[0m in \u001b[0;36m<module>\u001b[0;34m\u001b[0m\n\u001b[0;32m----> 1\u001b[0;31m \u001b[0mmy_set\u001b[0m\u001b[0;34m.\u001b[0m\u001b[0madd\u001b[0m\u001b[0;34m(\u001b[0m\u001b[0;36m2\u001b[0m\u001b[0;34m)\u001b[0m\u001b[0;34m\u001b[0m\u001b[0;34m\u001b[0m\u001b[0m\n\u001b[0m",
            "\u001b[0;31mAttributeError\u001b[0m: 'frozenset' object has no attribute 'add'"
          ]
        }
      ]
    },
    {
      "cell_type": "code",
      "metadata": {
        "id": "FA_CVwPS1k7O",
        "colab": {
          "base_uri": "https://localhost:8080/"
        },
        "outputId": "811a4280-318d-4674-be51-f9083a2dfd9d"
      },
      "source": [
        "s.add(my_set)\n",
        "print(s)"
      ],
      "execution_count": null,
      "outputs": [
        {
          "output_type": "stream",
          "name": "stdout",
          "text": [
            "{frozenset({1, 2, 3}), 2, ('one', 1)}\n"
          ]
        }
      ]
    },
    {
      "cell_type": "markdown",
      "metadata": {
        "id": "pS3TkoN1g_zp"
      },
      "source": [
        "# String formatting"
      ]
    },
    {
      "cell_type": "markdown",
      "metadata": {
        "id": "13Ozf2SKg_i2"
      },
      "source": [
        "We already know the about `format()` method for strings, here we explore some of its useful features.\n",
        "\n",
        "Suppose we want to dispay the rounded version of a floating number. We can do that like this:"
      ]
    },
    {
      "cell_type": "code",
      "metadata": {
        "id": "Fu44Xi9bj9pQ",
        "colab": {
          "base_uri": "https://localhost:8080/"
        },
        "outputId": "2660a382-b41a-482b-8f44-416a140787d8"
      },
      "source": [
        "a = 23.60 * 0.33\n",
        "print('Rounding up to 2 digits {}'.format(a))\n",
        "print('Rounding up to 2 digits {:.2f}'.format(a))\n",
        "print('Rounding up to 3 digits {:.3f}'.format(a))"
      ],
      "execution_count": null,
      "outputs": [
        {
          "output_type": "stream",
          "name": "stdout",
          "text": [
            "Rounding up to 2 digits 7.788000000000001\n",
            "Rounding up to 2 digits 7.79\n",
            "Rounding up to 3 digits 7.788\n"
          ]
        }
      ]
    },
    {
      "cell_type": "markdown",
      "metadata": {
        "id": "NC1S6RJvlSyg"
      },
      "source": [
        "The same can be done with the more compact method."
      ]
    },
    {
      "cell_type": "code",
      "metadata": {
        "id": "sbTfhOEOj90-",
        "colab": {
          "base_uri": "https://localhost:8080/"
        },
        "outputId": "3e9f3bc6-1a45-440f-fe7c-0e9bafaeed0b"
      },
      "source": [
        "print(f'Rounding up to 3 digits {a:.4f}')"
      ],
      "execution_count": null,
      "outputs": [
        {
          "output_type": "stream",
          "name": "stdout",
          "text": [
            "Rounding up to 3 digits 7.7880\n"
          ]
        }
      ]
    },
    {
      "cell_type": "markdown",
      "metadata": {
        "id": "VWeuRVmQmkJH"
      },
      "source": [
        "## Formatting integers"
      ]
    },
    {
      "cell_type": "markdown",
      "metadata": {
        "id": "82ycWAOnj9wm"
      },
      "source": [
        "To format an integer number, the formatting code is `{:d}`. We can right, left, center justify integers."
      ]
    },
    {
      "cell_type": "code",
      "metadata": {
        "id": "JCoMcizpg_U_",
        "colab": {
          "base_uri": "https://localhost:8080/"
        },
        "outputId": "a124146f-54f1-4ca2-cee0-7d7c06d6f9ca"
      },
      "source": [
        "# right justification\n",
        "print('{:3d}'.format(2))\n",
        "print('{:{}d}'.format(2,5))\n",
        "print('{:30d}'.format(25))\n",
        "print('{:1d}'.format(138))"
      ],
      "execution_count": null,
      "outputs": [
        {
          "output_type": "stream",
          "name": "stdout",
          "text": [
            "  2\n",
            "    2\n",
            "                            25\n",
            "138\n"
          ]
        }
      ]
    },
    {
      "cell_type": "code",
      "metadata": {
        "id": "s_p_khzfg_EX",
        "colab": {
          "base_uri": "https://localhost:8080/"
        },
        "outputId": "da96a66e-b490-4278-8856-4e2b5526f370"
      },
      "source": [
        "# center justification\n",
        "print('{:^5d}'.format(2))\n",
        "print('{:^5d}'.format(222))\n",
        "print('{:^5d}'.format(13834))"
      ],
      "execution_count": null,
      "outputs": [
        {
          "output_type": "stream",
          "name": "stdout",
          "text": [
            "  2  \n",
            " 222 \n",
            "13834\n"
          ]
        }
      ]
    },
    {
      "cell_type": "code",
      "metadata": {
        "id": "k_Msqkkwl3U5",
        "colab": {
          "base_uri": "https://localhost:8080/"
        },
        "outputId": "9bc269cb-a555-4fd8-d723-98739a9bc908"
      },
      "source": [
        "# left justification\n",
        "print('{:<5d}'.format(2))\n",
        "print('{:<5d}'.format(222))\n",
        "print('{:<5d}'.format(13834))\n",
        "print(f'{13834:<5d}')"
      ],
      "execution_count": null,
      "outputs": [
        {
          "output_type": "stream",
          "name": "stdout",
          "text": [
            "2    \n",
            "222  \n",
            "13834\n",
            "13834\n"
          ]
        }
      ]
    },
    {
      "cell_type": "markdown",
      "metadata": {
        "id": "mUdCh-TDl3a_"
      },
      "source": [
        "Putting a comma into the formatting code will format the integer with commas. The example below\n",
        "prints 1,000,000:"
      ]
    },
    {
      "cell_type": "code",
      "metadata": {
        "id": "C6OLy_2Gl3h6",
        "colab": {
          "base_uri": "https://localhost:8080/"
        },
        "outputId": "104be3df-b5d3-4be8-8d7c-bbd44b64bff6"
      },
      "source": [
        "print('{:,d}'.format(1000000))"
      ],
      "execution_count": null,
      "outputs": [
        {
          "output_type": "stream",
          "name": "stdout",
          "text": [
            "1,000,000\n"
          ]
        }
      ]
    },
    {
      "cell_type": "markdown",
      "metadata": {
        "id": "PSjwlE9Dmc43"
      },
      "source": [
        "## Formatting floats\n",
        "\n",
        "To format a floating point number, the formatting code is `{:f}`"
      ]
    },
    {
      "cell_type": "code",
      "metadata": {
        "id": "OTMwnrmonFp7",
        "colab": {
          "base_uri": "https://localhost:8080/"
        },
        "outputId": "0a5acde2-7bce-4dc3-b407-54c78a5995d4"
      },
      "source": [
        "# right justify and rounding floats\n",
        "print('{:10.2f}'.format(2.2323423))\n",
        "print('{:10.2f}'.format(3145.6778))"
      ],
      "execution_count": null,
      "outputs": [
        {
          "output_type": "stream",
          "name": "stdout",
          "text": [
            "      2.23\n",
            "   3145.68\n"
          ]
        }
      ]
    },
    {
      "cell_type": "code",
      "metadata": {
        "id": "LyklXUrUmdDK",
        "colab": {
          "base_uri": "https://localhost:8080/"
        },
        "outputId": "c45797bf-5bd3-4f21-9df0-20459a8988df"
      },
      "source": [
        "# center (^) and left (<) justify \n",
        "print('{:^20}'.format(3145.6778342342))\n",
        "print('{:<20}'.format(3145.6778342342))"
      ],
      "execution_count": null,
      "outputs": [
        {
          "output_type": "stream",
          "name": "stdout",
          "text": [
            "  3145.6778342342   \n",
            "3145.6778342342     \n"
          ]
        }
      ]
    },
    {
      "cell_type": "markdown",
      "metadata": {
        "id": "cca2Upjlm-jd"
      },
      "source": [
        "## Formatting strings"
      ]
    },
    {
      "cell_type": "markdown",
      "metadata": {
        "id": "g4JgoVpVm-xM"
      },
      "source": [
        "To format strings, the formatting code is `{:s}`. Here is an example that centers some text:"
      ]
    },
    {
      "cell_type": "code",
      "metadata": {
        "id": "tNYXhPvRm-5E",
        "colab": {
          "base_uri": "https://localhost:8080/"
        },
        "outputId": "45b50128-37e5-4f1a-cf2f-71b53813f3d0"
      },
      "source": [
        "print('{:^10s}'.format('Hi'))\n",
        "print('{:^10s}'.format('there!'))"
      ],
      "execution_count": null,
      "outputs": [
        {
          "output_type": "stream",
          "name": "stdout",
          "text": [
            "    Hi    \n",
            "  there!  \n"
          ]
        }
      ]
    },
    {
      "cell_type": "markdown",
      "metadata": {
        "id": "6wBAVCB7m_AS"
      },
      "source": [
        "To right-justify a string, use the `>` character:"
      ]
    },
    {
      "cell_type": "code",
      "metadata": {
        "id": "QKXD1jCdm_H_",
        "colab": {
          "base_uri": "https://localhost:8080/"
        },
        "outputId": "92e691e4-24dc-4571-c02f-16162d1d0a6d"
      },
      "source": [
        "print('{:>6s}'.format('Hi'))\n",
        "print('{:>6s}'.format('There'))"
      ],
      "execution_count": null,
      "outputs": [
        {
          "output_type": "stream",
          "name": "stdout",
          "text": [
            "    Hi\n",
            " There\n"
          ]
        }
      ]
    },
    {
      "cell_type": "code",
      "metadata": {
        "id": "1A3xblrCmdO_",
        "colab": {
          "base_uri": "https://localhost:8080/"
        },
        "outputId": "c69d0dd3-f8ed-459c-f7ea-13ef38b56b2e"
      },
      "source": [
        "# left justify\n",
        "print('{:<6s}'.format('Hi'))\n",
        "print('{:^19s}'.format('There'))"
      ],
      "execution_count": null,
      "outputs": [
        {
          "output_type": "stream",
          "name": "stdout",
          "text": [
            "Hi    \n",
            "       There       \n"
          ]
        }
      ]
    },
    {
      "cell_type": "markdown",
      "metadata": {
        "id": "Sn6HeuNI1lPN"
      },
      "source": [
        "# Nested Loops"
      ]
    },
    {
      "cell_type": "markdown",
      "metadata": {
        "id": "AVKIoFnjXwtW"
      },
      "source": [
        "You can put loops inside of other loops. A loop inside of another loop is said to be **nested**."
      ]
    },
    {
      "cell_type": "code",
      "metadata": {
        "id": "UqxYQy-dXwy1"
      },
      "source": [
        "# example: multiplication table\n",
        "for i in range(1,11):\n",
        "  for j in range(1,11):\n",
        "    print('{:3d}'.format(i*j), end=' ')\n",
        "  print()"
      ],
      "execution_count": null,
      "outputs": []
    },
    {
      "cell_type": "markdown",
      "metadata": {
        "id": "w7_U3SxPXw4Q"
      },
      "source": [
        "Here we find all the integer\n",
        "solutions $(x, y)$ to the system $2x + 3y = 4, x - y = 7$, where $x$ and $y$ are both between $-50$ and $50$."
      ]
    },
    {
      "cell_type": "code",
      "metadata": {
        "id": "v5BJ2OmlXw-R"
      },
      "source": [
        "for x in range(-50,51):\n",
        "  for y in range(-50,51):\n",
        "    if 2*x + 3*y == 4 and x - y == 7:\n",
        "      print(x, y)"
      ],
      "execution_count": null,
      "outputs": []
    },
    {
      "cell_type": "markdown",
      "metadata": {
        "id": "5Thwzq2ZXxCr"
      },
      "source": [
        "Here is a program that finds all the\n",
        "Pythagorean triples $(x, y, z)$ such that $x^2+ y^2 = z^2$, where $x$, $y$, and $z$ are positive and less than 100."
      ]
    },
    {
      "cell_type": "code",
      "metadata": {
        "id": "-Ij_NxGJXxI-"
      },
      "source": [
        "for x in range(1,100):\n",
        "  for y in range(1,100):\n",
        "    for z in range(1,100):\n",
        "      if x**2+y**2==z**2:\n",
        "        print(x,y,z)"
      ],
      "execution_count": null,
      "outputs": []
    },
    {
      "cell_type": "code",
      "metadata": {
        "id": "Ymxu63bJgSUk"
      },
      "source": [
        "for x in range(1,100):\n",
        "  for y in range(x,100):\n",
        "    for z in range(y,100):\n",
        "      if x**2+y**2==z**2:\n",
        "        print(x,y,z)"
      ],
      "execution_count": null,
      "outputs": []
    },
    {
      "cell_type": "markdown",
      "metadata": {
        "id": "63U0ZD0XgSyC"
      },
      "source": [
        "# Exercises"
      ]
    },
    {
      "cell_type": "markdown",
      "metadata": {
        "id": "LKlsCHB_g0HG"
      },
      "source": [
        "1. Access value 10 from the following tuple\n",
        "\n",
        "  Հետևյալ tuple-ից ստանալ (վերցնել) 10 արժեքը\n",
        "\n",
        "  `my_tuple = (\"Orange\", [10, 20, 30], (5, 15, 25))`"
      ]
    },
    {
      "cell_type": "code",
      "metadata": {
        "id": "KMvoDMysg0OS",
        "outputId": "2ad9aadd-37a0-4a15-990f-a0e961e83f24",
        "colab": {
          "base_uri": "https://localhost:8080/"
        }
      },
      "source": [
        "my_tuple = (\"Orange\", [10, 20, 30], (5, 15, 25))\n",
        "my_tuple [1][0]"
      ],
      "execution_count": 1,
      "outputs": [
        {
          "output_type": "execute_result",
          "data": {
            "text/plain": [
              "10"
            ]
          },
          "metadata": {},
          "execution_count": 1
        }
      ]
    },
    {
      "cell_type": "markdown",
      "metadata": {
        "id": "hMQPaxN_g0Ut"
      },
      "source": [
        "2. Write a program that counts the number of occurances of each item in a tuple. \n",
        "\n",
        "  Գրել ծրագիր, որը հաշվում է tuple-ի էլեմենտների հաճախականությունները։"
      ]
    },
    {
      "cell_type": "code",
      "metadata": {
        "id": "4omf-8QUg0ci",
        "outputId": "8fd85c2f-d2e3-4757-df59-44df5616deaf",
        "colab": {
          "base_uri": "https://localhost:8080/"
        }
      },
      "source": [
        "def counT(tup,n):\n",
        " count = 0\n",
        " for i in tup:\n",
        "   if i == n:\n",
        "     count += 1\n",
        " return count\n",
        "counT([5,12,51,32,15,5,6,5],5)"
      ],
      "execution_count": 2,
      "outputs": [
        {
          "output_type": "execute_result",
          "data": {
            "text/plain": [
              "3"
            ]
          },
          "metadata": {},
          "execution_count": 2
        }
      ]
    },
    {
      "cell_type": "markdown",
      "metadata": {
        "id": "QMhgwVjYt4vg"
      },
      "source": [
        "3. Find the common elements in this sets.\n",
        "\n",
        "  Գտնել տրված բազմությունների ընդհանուր անդամները։\n",
        "  \n",
        "  `set1 = {10, 20, 30, 40, 50}`\n",
        "\n",
        "  `set2 = {60, 70, 80, 90, 10}`"
      ]
    },
    {
      "cell_type": "code",
      "metadata": {
        "id": "HgpGNPzit4cZ",
        "outputId": "d64a50eb-50de-4496-bd2c-3f1f41b5227c",
        "colab": {
          "base_uri": "https://localhost:8080/"
        }
      },
      "source": [
        "set1 = {10, 20, 30, 40, 50}\n",
        "set2 = {60, 20, 80, 50, 10}\n",
        "set3 = []\n",
        "for i in set1:\n",
        " if i in set2:\n",
        "   set3.append(i)\n",
        "print(set3)"
      ],
      "execution_count": 3,
      "outputs": [
        {
          "output_type": "stream",
          "name": "stdout",
          "text": [
            "[10, 50, 20]\n"
          ]
        }
      ]
    },
    {
      "cell_type": "markdown",
      "metadata": {
        "id": "qOOXApTdg0mM"
      },
      "source": [
        "4. Write a program that finds all integer solutions to $x^2 - 2y^2 = 1$ equation, where $x$ and\n",
        "$y$ are between $1$ and $100$.\n",
        "\n",
        "  Գրել ծրագիր, որը կգտնի $x^2 - 2y^2 = 1$ հավասարման ամբողջ լուծումները 1-ից 100 միջակայքում։"
      ]
    },
    {
      "cell_type": "code",
      "metadata": {
        "id": "rlAjaOutg0ti",
        "outputId": "bcf81e21-4117-41bd-d9d1-904b1c027d7f",
        "colab": {
          "base_uri": "https://localhost:8080/"
        }
      },
      "source": [
        "def equation():\n",
        "  L = []\n",
        "  for x in range(1,100):\n",
        "    for y in range(1,100):\n",
        "      if x**2 - 2 * (y**2) == 1:\n",
        "        L.append((x,y))\n",
        "  return L\n",
        "print(equation())"
      ],
      "execution_count": 5,
      "outputs": [
        {
          "output_type": "stream",
          "name": "stdout",
          "text": [
            "[(3, 2), (17, 12), (99, 70)]\n"
          ]
        }
      ]
    },
    {
      "cell_type": "markdown",
      "metadata": {
        "id": "egq-hQkBZ23t"
      },
      "source": [
        "# Working with files\n",
        "\n",
        "We can read data from various files managed by computer's operating system. **open** function creates a Python file object, which serves as a link to a file located on the machine.  "
      ]
    },
    {
      "cell_type": "markdown",
      "metadata": {
        "id": "_aFz6CMGZ3oV"
      },
      "source": [
        "## Opening files\n",
        "\n",
        "`afile = open(filename, mode)`\n",
        "\n",
        "`afile.method()`\n",
        "\n",
        "Here the `filename` may include absolute or relative directory path prefix. In case the directory path is ommitted, it is assumed that the file is located in the current directory.\n",
        "\n",
        "The second argument to **open** is the processing `mode`, with options such as:\n",
        "* **'r'** (default) to open text input  \n",
        "* **'w'** to create and open for text output\n",
        "* **'a'** to open for appending text to the end (for example adding logfiles)."
      ]
    },
    {
      "cell_type": "markdown",
      "metadata": {
        "id": "WMVKqI1QZ3ti"
      },
      "source": [
        "For full list of modes visit [here](https://www.programiz.com/python-programming/methods/built-in/open) . Some modes can even be combined, like 'rb', 'wb' , etc.\n",
        "\n",
        "Once the file object is made, we can call its methods to read from or write to the associated external file. Reading a file returns its content in strings and content is passed to the write methods as strings. "
      ]
    },
    {
      "cell_type": "markdown",
      "metadata": {
        "id": "EahvJlu1Z3zF"
      },
      "source": [
        "To keep your environment clean it is useful to have a 'path' variable which will indicate the folder from/in which you'll read/write your files. By default, python reads/writes data to/from the current directory, where the Jupyter notebook (or the code file) is located. If we want to read/write from another source, we should specify the path to it before the file name."
      ]
    },
    {
      "cell_type": "code",
      "metadata": {
        "id": "hvWB0OKSZ32w"
      },
      "source": [
        "# for example, the path variable can look like this\n",
        "path = 'C:\\\\Users\\\\some_user\\\\Documents\\\\'"
      ],
      "execution_count": null,
      "outputs": []
    },
    {
      "cell_type": "code",
      "metadata": {
        "id": "dRU1tPjJZ371"
      },
      "source": [
        "# lets write a .txt file with some wording\n",
        "my_file = open('myfile.txt', 'w')  # create an empty text file\n",
        "\n",
        "# in case we wanted to write the file into the specified path\n",
        "# we would write the above code like this\n",
        "# my_file = open(path + 'myfile.txt', 'w')  \n",
        "\n",
        "my_file.write('The aim of Unit 1991 program is to provide opportunities\\n\\\n",
        "for continuing education, multifaceted development, and advancement of\\n\\\n",
        "professional skills for inductees in the Armed Forces of Armenia.\\n')\n",
        "\n",
        "my_file.write('It is envisioned that R&D projects and analyses to target both\\n\\\n",
        "short- and long-term problems will be implemented')\n",
        "\n",
        "\n",
        "my_file.close()  "
      ],
      "execution_count": null,
      "outputs": []
    },
    {
      "cell_type": "code",
      "metadata": {
        "id": "1CwT1Hrhc8FB"
      },
      "source": [
        "my_file = open('myfile.txt', 'w')  \n",
        "\n",
        "my_file.write(\"\"\"\n",
        "The aim of Unit 1991 program is to provide opportunities\n",
        "for continuing education, multifaceted development, and advancement of\n",
        "professional skills for inductees in the Armed Forces of Armenia.\n",
        "\n",
        "It is envisioned that R&D projects and analyses to target both\n",
        "short- and long-term problems will be implemented\"\"\")\n",
        "\n",
        "\n",
        "my_file.close()  "
      ],
      "execution_count": null,
      "outputs": []
    },
    {
      "cell_type": "code",
      "metadata": {
        "id": "lZgBhQWOZ3_x",
        "colab": {
          "base_uri": "https://localhost:8080/"
        },
        "outputId": "1ffe6a73-ed19-4fd5-e6ad-04ed10b802b0"
      },
      "source": [
        "# read all at once into string\n",
        "myfile = open('myfile.txt')  # default mode is 'r' (read)\n",
        "\n",
        "# read line by line\n",
        "print(myfile.readline()) \n",
        "print(myfile.readline()) "
      ],
      "execution_count": null,
      "outputs": [
        {
          "output_type": "stream",
          "name": "stdout",
          "text": [
            "\n",
            "\n",
            "The aim of Unit 1991 program is to provide opportunities\n",
            "\n"
          ]
        }
      ]
    },
    {
      "cell_type": "code",
      "metadata": {
        "id": "J2ZImkSkZ4EK",
        "colab": {
          "base_uri": "https://localhost:8080/",
          "height": 105
        },
        "outputId": "30a27d43-1b9d-4fa4-d384-643bf2e9cff2"
      },
      "source": [
        "# read all at once into string\n",
        "myfile = open('myfile.txt')  \n",
        "myfile.read()"
      ],
      "execution_count": null,
      "outputs": [
        {
          "output_type": "execute_result",
          "data": {
            "text/plain": [
              "'\\nThe aim of Unit 1991 program is to provide opportunities\\nfor continuing education, multifaceted development, and advancement of\\nprofessional skills for inductees in the Armed Forces of Armenia.\\n\\nIt is envisioned that R&D projects and analyses to target both\\nshort- and long-term problems will be implemented'"
            ],
            "application/vnd.google.colaboratory.intrinsic+json": {
              "type": "string"
            }
          },
          "metadata": {},
          "execution_count": 72
        }
      ]
    },
    {
      "cell_type": "code",
      "metadata": {
        "id": "AVbc1-nZZ4II",
        "colab": {
          "base_uri": "https://localhost:8080/"
        },
        "outputId": "5c07954a-2f95-4361-b85e-ed159f2d9f57"
      },
      "source": [
        "# user-friendly display\n",
        "print(open('myfile.txt').read())"
      ],
      "execution_count": null,
      "outputs": [
        {
          "output_type": "stream",
          "name": "stdout",
          "text": [
            "\n",
            "The aim of Unit 1991 program is to provide opportunities\n",
            "for continuing education, multifaceted development, and advancement of\n",
            "professional skills for inductees in the Armed Forces of Armenia.\n",
            "\n",
            "It is envisioned that R&D projects and analyses to target both\n",
            "short- and long-term problems will be implemented\n"
          ]
        }
      ]
    },
    {
      "cell_type": "code",
      "metadata": {
        "id": "ULGJVYAYZ4Mo",
        "colab": {
          "base_uri": "https://localhost:8080/"
        },
        "outputId": "b3f3ac80-1ba4-4286-886c-a42a631a56ea"
      },
      "source": [
        "# if we want to scan a text file line by line\n",
        "for line in open('myfile.txt'):\n",
        "  print(line, end='')"
      ],
      "execution_count": null,
      "outputs": [
        {
          "output_type": "stream",
          "name": "stdout",
          "text": [
            "\n",
            "The aim of Unit 1991 program is to provide opportunities\n",
            "for continuing education, multifaceted development, and advancement of\n",
            "professional skills for inductees in the Armed Forces of Armenia.\n",
            "\n",
            "It is envisioned that R&D projects and analyses to target both\n",
            "short- and long-term problems will be implemented"
          ]
        }
      ]
    },
    {
      "cell_type": "markdown",
      "metadata": {
        "id": "C3LR-5b9Z4Qm"
      },
      "source": [
        "To not get confused and mess up with open, close syntax there is a **with** clause which automatically closes the file after doing operations."
      ]
    },
    {
      "cell_type": "code",
      "metadata": {
        "id": "8oBT9_HwZ4Vu",
        "colab": {
          "base_uri": "https://localhost:8080/",
          "height": 140
        },
        "outputId": "9bdd93e0-f01a-4900-e2e1-60ecd5af5d0e"
      },
      "source": [
        "with open('myfile.txt','r') as f: # f = open...\n",
        "    read_file = f.read()\n",
        "print(read_file)"
      ],
      "execution_count": null,
      "outputs": [
        {
          "output_type": "stream",
          "text": [
            "\n",
            "The aim of Unit 1991 program is to provide opportunities\n",
            "for continuing education, multifaceted development, and advancement of\n",
            "professional skills for inductees in the Armed Forces of Armenia.\n",
            "\n",
            "It is envisioned that R&D projects and analyses to target both\n",
            "short- and long-term problems will be implemented\n"
          ],
          "name": "stdout"
        }
      ]
    },
    {
      "cell_type": "code",
      "metadata": {
        "id": "aCUP_3CpZ4Zm"
      },
      "source": [
        "with open('myfile1.txt','w') as f:\n",
        "    f.write(\"\"\"The aim of Unit 1991 program is to provide opportunities\n",
        "for continuing education, multifaceted development, and advancement of\n",
        "professional skills for inductees in the Armed Forces of Armenia.\n",
        "\n",
        "It is envisioned that R&D projects and analyses to target both\n",
        "short- and long-term problems will be implemented\n",
        "\"\"\")"
      ],
      "execution_count": null,
      "outputs": []
    },
    {
      "cell_type": "markdown",
      "metadata": {
        "id": "MgAW1CYLZ4dp"
      },
      "source": [
        "## Uploading files to Google Colab \n",
        "\n",
        "We can use the following code snippet to upload files to Colab from our local machine. After running the code you should click on the **Choose Files** button, select the files and press **Open**.  "
      ]
    },
    {
      "cell_type": "code",
      "metadata": {
        "id": "IV-kt15LZ4ij"
      },
      "source": [
        "from google.colab import files\n",
        "uploaded = files.upload()"
      ],
      "execution_count": null,
      "outputs": []
    },
    {
      "cell_type": "markdown",
      "metadata": {
        "id": "6L921op2Z4mX"
      },
      "source": [
        "To view the uploaded files, as well as the other files in the current directory, run the following command."
      ]
    },
    {
      "cell_type": "code",
      "metadata": {
        "id": "iUh6RYVaZ4qF",
        "colab": {
          "base_uri": "https://localhost:8080/",
          "height": 34
        },
        "outputId": "231d1654-3e9e-427f-a188-6697f786896e"
      },
      "source": [
        "!ls  "
      ],
      "execution_count": null,
      "outputs": [
        {
          "output_type": "stream",
          "text": [
            "myfile1.txt  myfile.txt  sample_data\n"
          ],
          "name": "stdout"
        }
      ]
    },
    {
      "cell_type": "markdown",
      "metadata": {
        "id": "M3gVP5zXaox4"
      },
      "source": [
        "We can also access the files on our Google Drive by mounting it (making the files in our drive accessible by Colab). For doing this you should go through the authorization process."
      ]
    },
    {
      "cell_type": "code",
      "metadata": {
        "id": "kWOyEUvyao29"
      },
      "source": [
        "from google.colab import drive\n",
        "drive.mount('/content/drive')"
      ],
      "execution_count": null,
      "outputs": []
    },
    {
      "cell_type": "markdown",
      "metadata": {
        "id": "rHaLO0xdao7s"
      },
      "source": [
        "After mounting our Google Drive, in order to access the files in the Drive, we can either change our current directory to the directory that contains the Drive files or we can set the path to the corresponding one. You can see these below."
      ]
    },
    {
      "cell_type": "code",
      "metadata": {
        "id": "yfSTqqzrao_s",
        "colab": {
          "base_uri": "https://localhost:8080/",
          "height": 34
        },
        "outputId": "6ec6c362-945d-444f-9aaa-512fd928dd92"
      },
      "source": [
        "!pwd"
      ],
      "execution_count": null,
      "outputs": [
        {
          "output_type": "stream",
          "text": [
            "/content\n"
          ],
          "name": "stdout"
        }
      ]
    },
    {
      "cell_type": "code",
      "metadata": {
        "id": "jzqhQvLsapEY"
      },
      "source": [
        "# change the directory\n",
        "!cd drive/'My Drive'/"
      ],
      "execution_count": null,
      "outputs": []
    },
    {
      "cell_type": "code",
      "metadata": {
        "id": "0GN_jCWIapIt"
      },
      "source": [
        "# set the new path before reading the files in python\n",
        "open(\"drive/'My Drive/filename.txt'\",'r')"
      ],
      "execution_count": null,
      "outputs": []
    },
    {
      "cell_type": "markdown",
      "metadata": {
        "id": "F6i7oqixayuA"
      },
      "source": [
        "## Storing Python Objects in Files\n",
        "\n",
        "File data is always strings in our scripts, and write methods do not do any automatic to-string formatting for us."
      ]
    },
    {
      "cell_type": "code",
      "metadata": {
        "id": "TEMC5ptuayyB"
      },
      "source": [
        "my_dict = {'A': 2, 'B': 4, 'C': 5}"
      ],
      "execution_count": null,
      "outputs": []
    },
    {
      "cell_type": "code",
      "metadata": {
        "id": "th3SKQDWay4D"
      },
      "source": [
        "# create output text file\n",
        "new_file = open('datafile.txt', 'w')\n",
        "\n",
        "# using the dictionary created earlier\n",
        "for key in my_dict:    \n",
        "  new_file.write(f'{key}\\t{my_dict[key]}\\n') \n",
        "new_file.close()"
      ],
      "execution_count": null,
      "outputs": []
    },
    {
      "cell_type": "code",
      "metadata": {
        "id": "mJi4vQZAay6x",
        "colab": {
          "base_uri": "https://localhost:8080/"
        },
        "outputId": "362478cf-28a9-4f2b-f093-627a8edf85d5"
      },
      "source": [
        "print(open('datafile.txt').read())"
      ],
      "execution_count": null,
      "outputs": [
        {
          "output_type": "stream",
          "name": "stdout",
          "text": [
            "A\t2\n",
            "B\t4\n",
            "C\t5\n",
            "\n"
          ]
        }
      ]
    },
    {
      "cell_type": "code",
      "metadata": {
        "id": "lpWAuZ2uay_m",
        "colab": {
          "base_uri": "https://localhost:8080/"
        },
        "outputId": "cb301e5c-79d7-43d6-f71f-6f56bdcc4a10"
      },
      "source": [
        "print(my_dict)"
      ],
      "execution_count": null,
      "outputs": [
        {
          "output_type": "stream",
          "name": "stdout",
          "text": [
            "{'A': 2, 'B': 4, 'C': 5}\n"
          ]
        }
      ]
    },
    {
      "cell_type": "code",
      "metadata": {
        "id": "M-ZRKmSlazGI"
      },
      "source": [
        "# we can also store the dictionary (or any other) object as string\n",
        "other_file = open('file.txt', 'w')\n",
        "# other_file.write(str(my_dict))\n",
        "other_file.write('print(5)')\n",
        "other_file.close()"
      ],
      "execution_count": null,
      "outputs": []
    },
    {
      "cell_type": "code",
      "metadata": {
        "id": "xTZmqxY_azKo",
        "colab": {
          "base_uri": "https://localhost:8080/"
        },
        "outputId": "8a04c6fc-6ac1-4f0f-a2de-717919ae388e"
      },
      "source": [
        "print(open('file.txt').read())"
      ],
      "execution_count": null,
      "outputs": [
        {
          "output_type": "stream",
          "name": "stdout",
          "text": [
            "print(5)\n"
          ]
        }
      ]
    },
    {
      "cell_type": "code",
      "metadata": {
        "id": "coQQTwjcazOB",
        "colab": {
          "base_uri": "https://localhost:8080/"
        },
        "outputId": "117745ce-3134-437b-dbfb-4c0fd4323f88"
      },
      "source": [
        "# we can recreate the dictionary, reading it from the text file\n",
        "# eval() = evaluate\n",
        "same_dict = eval(open('file.txt').read())\n",
        "print(same_dict)"
      ],
      "execution_count": null,
      "outputs": [
        {
          "output_type": "stream",
          "name": "stdout",
          "text": [
            "5\n",
            "None\n"
          ]
        }
      ]
    },
    {
      "cell_type": "markdown",
      "metadata": {
        "id": "ayxv0yBQazDb"
      },
      "source": [
        "## Storing Native Python Objects: pickle\n",
        "\n",
        "Using `eval` to convert from strings to objects, as demonstrated in the above code, is a powerful tool. `eval` will run any Python expression - even one that might delete all the files on your computer, given the necessary permissions! If you really want to store native Python objects, but you can’t trust the source of the data in the file, Python’s standard library pickle module is ideal.\n",
        "\n",
        "The **pickle** module is a more advanced tool that allows us to store almost any Python object in a file directly, with no to- or from-string conversion requirement on our part."
      ]
    },
    {
      "cell_type": "code",
      "metadata": {
        "id": "l98eF9ApbARo"
      },
      "source": [
        "# let's use the same my_dict dictionary \n",
        "# and store it directly on the pickle file\n",
        "pickle_file = open('datafile.pkl', 'wb')  \n",
        "# 'wb' mode means 'write binary'"
      ],
      "execution_count": null,
      "outputs": []
    },
    {
      "cell_type": "code",
      "metadata": {
        "id": "QoSvk0P5bAWz"
      },
      "source": [
        "# we need to import the library for dealing with pickle files \n",
        "import pickle  \n",
        "pickle.dump(my_dict, pickle_file)\n",
        "pickle_file.close()"
      ],
      "execution_count": null,
      "outputs": []
    },
    {
      "cell_type": "code",
      "metadata": {
        "id": "hy1RGfNPbAa4",
        "colab": {
          "base_uri": "https://localhost:8080/"
        },
        "outputId": "faa30183-195a-432b-9ece-92b823be5e1d"
      },
      "source": [
        "# let's get back to the stored dictionary \n",
        "pickle_file = open('datafile.pkl', 'rb')  # 'rb' mode means 'read binary'\n",
        "same_dict = pickle.load(pickle_file)\n",
        "same_dict"
      ],
      "execution_count": null,
      "outputs": [
        {
          "output_type": "execute_result",
          "data": {
            "text/plain": [
              "{'A': 2, 'B': 4, 'C': 5}"
            ]
          },
          "metadata": {},
          "execution_count": 90
        }
      ]
    },
    {
      "cell_type": "code",
      "metadata": {
        "id": "NCAcBLWnLOfe",
        "colab": {
          "base_uri": "https://localhost:8080/",
          "height": 34
        },
        "outputId": "7004d724-7401-4093-bb3b-09ce4c8bf09b"
      },
      "source": [
        "type(same_dict)"
      ],
      "execution_count": null,
      "outputs": [
        {
          "output_type": "execute_result",
          "data": {
            "text/plain": [
              "dict"
            ]
          },
          "metadata": {
            "tags": []
          },
          "execution_count": 99
        }
      ]
    },
    {
      "cell_type": "markdown",
      "metadata": {
        "id": "8mJyjNkGbAfh"
      },
      "source": [
        "**pickle** module performs all the object to and from byte string conversions for us. We can see how the byte strings look like."
      ]
    },
    {
      "cell_type": "code",
      "metadata": {
        "id": "wfCcdnIhbAj-",
        "colab": {
          "base_uri": "https://localhost:8080/"
        },
        "outputId": "4b59929b-8955-4fa1-d49f-60f45b6ac044"
      },
      "source": [
        "# it's good that we don't have to deal with the conversion\n",
        "open('datafile.pkl', 'rb').read()"
      ],
      "execution_count": null,
      "outputs": [
        {
          "output_type": "execute_result",
          "data": {
            "text/plain": [
              "b'\\x80\\x04\\x95\\x17\\x00\\x00\\x00\\x00\\x00\\x00\\x00}\\x94(\\x8c\\x01A\\x94K\\x02\\x8c\\x01B\\x94K\\x04\\x8c\\x01C\\x94K\\x05u.'"
            ]
          },
          "metadata": {},
          "execution_count": 91
        }
      ]
    },
    {
      "cell_type": "markdown",
      "metadata": {
        "id": "B2PhCL-rbApc"
      },
      "source": [
        "## Storing Python Objects in JSON Format\n",
        "\n",
        "JSON is a newer and emerging data interchange format. It does not support as broad a range of Python object types as pickle, but its portability is an advantage in some contexts, and it represents another way to serialize\n",
        "a specific category of Python objects for storage and transmission. Moreover, because JSON is so close to Python dictionaries and lists in syntax, the translation to and from Python objects is trivial, and is automated by the **json** standard library module."
      ]
    },
    {
      "cell_type": "code",
      "metadata": {
        "id": "twl0sqwUbKET",
        "colab": {
          "base_uri": "https://localhost:8080/"
        },
        "outputId": "d9510a96-ad3f-47e8-a069-5859bf918404"
      },
      "source": [
        "# json module translates \n",
        "# the Python objects (for example the dict)\n",
        "# to and from a JSON serialized string representation\n",
        "# in memory\n",
        "import json\n",
        "a = json.dumps(my_dict)\n",
        "print(type(a))\n",
        "print(a)"
      ],
      "execution_count": null,
      "outputs": [
        {
          "output_type": "stream",
          "name": "stdout",
          "text": [
            "<class 'str'>\n",
            "{\"A\": 2, \"B\": 4, \"C\": 5}\n"
          ]
        }
      ]
    },
    {
      "cell_type": "markdown",
      "metadata": {
        "id": "f9eSaC7EbKIb"
      },
      "source": [
        "We can easily translate Python objects to and from JSON data strings\n",
        "in files. Before being stored in a file, your data is simply Python objects; the JSON module recreates them from the JSON textual representation when it loads it from the file"
      ]
    },
    {
      "cell_type": "code",
      "metadata": {
        "id": "4qyx6jOUbKNH",
        "colab": {
          "base_uri": "https://localhost:8080/"
        },
        "outputId": "c0796a27-e609-4876-ff9e-8f8e7b358a4e"
      },
      "source": [
        "json.dump(my_dict, fp=open('json_file.txt', 'w'), indent=4)\n",
        "print(open('json_file.txt').read())"
      ],
      "execution_count": null,
      "outputs": [
        {
          "output_type": "stream",
          "name": "stdout",
          "text": [
            "{\n",
            "    \"A\": 2,\n",
            "    \"B\": 4,\n",
            "    \"C\": 5\n",
            "}\n"
          ]
        }
      ]
    },
    {
      "cell_type": "code",
      "metadata": {
        "id": "gzlJNavwbKRW",
        "colab": {
          "base_uri": "https://localhost:8080/"
        },
        "outputId": "937726e1-8106-42ec-eecf-d7f9a024c189"
      },
      "source": [
        "# re-create the dict\n",
        "same_dict = json.load(open('json_file.txt'))\n",
        "same_dict[\"A\"]"
      ],
      "execution_count": null,
      "outputs": [
        {
          "output_type": "execute_result",
          "data": {
            "text/plain": [
              "2"
            ]
          },
          "metadata": {},
          "execution_count": 97
        }
      ]
    },
    {
      "cell_type": "code",
      "metadata": {
        "id": "EjBOx9tYbKVp",
        "colab": {
          "base_uri": "https://localhost:8080/"
        },
        "outputId": "74faab36-4680-4a84-956e-0d5189380214"
      },
      "source": [
        "some_list = json.load(open('sample_data/anscombe.json'))\n",
        "some_list"
      ],
      "execution_count": null,
      "outputs": [
        {
          "output_type": "execute_result",
          "data": {
            "text/plain": [
              "[{'Series': 'I', 'X': 10.0, 'Y': 8.04},\n",
              " {'Series': 'I', 'X': 8.0, 'Y': 6.95},\n",
              " {'Series': 'I', 'X': 13.0, 'Y': 7.58},\n",
              " {'Series': 'I', 'X': 9.0, 'Y': 8.81},\n",
              " {'Series': 'I', 'X': 11.0, 'Y': 8.33},\n",
              " {'Series': 'I', 'X': 14.0, 'Y': 9.96},\n",
              " {'Series': 'I', 'X': 6.0, 'Y': 7.24},\n",
              " {'Series': 'I', 'X': 4.0, 'Y': 4.26},\n",
              " {'Series': 'I', 'X': 12.0, 'Y': 10.84},\n",
              " {'Series': 'I', 'X': 7.0, 'Y': 4.81},\n",
              " {'Series': 'I', 'X': 5.0, 'Y': 5.68},\n",
              " {'Series': 'II', 'X': 10.0, 'Y': 9.14},\n",
              " {'Series': 'II', 'X': 8.0, 'Y': 8.14},\n",
              " {'Series': 'II', 'X': 13.0, 'Y': 8.74},\n",
              " {'Series': 'II', 'X': 9.0, 'Y': 8.77},\n",
              " {'Series': 'II', 'X': 11.0, 'Y': 9.26},\n",
              " {'Series': 'II', 'X': 14.0, 'Y': 8.1},\n",
              " {'Series': 'II', 'X': 6.0, 'Y': 6.13},\n",
              " {'Series': 'II', 'X': 4.0, 'Y': 3.1},\n",
              " {'Series': 'II', 'X': 12.0, 'Y': 9.13},\n",
              " {'Series': 'II', 'X': 7.0, 'Y': 7.26},\n",
              " {'Series': 'II', 'X': 5.0, 'Y': 4.74},\n",
              " {'Series': 'III', 'X': 10.0, 'Y': 7.46},\n",
              " {'Series': 'III', 'X': 8.0, 'Y': 6.77},\n",
              " {'Series': 'III', 'X': 13.0, 'Y': 12.74},\n",
              " {'Series': 'III', 'X': 9.0, 'Y': 7.11},\n",
              " {'Series': 'III', 'X': 11.0, 'Y': 7.81},\n",
              " {'Series': 'III', 'X': 14.0, 'Y': 8.84},\n",
              " {'Series': 'III', 'X': 6.0, 'Y': 6.08},\n",
              " {'Series': 'III', 'X': 4.0, 'Y': 5.39},\n",
              " {'Series': 'III', 'X': 12.0, 'Y': 8.15},\n",
              " {'Series': 'III', 'X': 7.0, 'Y': 6.42},\n",
              " {'Series': 'III', 'X': 5.0, 'Y': 5.73},\n",
              " {'Series': 'IV', 'X': 8.0, 'Y': 6.58},\n",
              " {'Series': 'IV', 'X': 8.0, 'Y': 5.76},\n",
              " {'Series': 'IV', 'X': 8.0, 'Y': 7.71},\n",
              " {'Series': 'IV', 'X': 8.0, 'Y': 8.84},\n",
              " {'Series': 'IV', 'X': 8.0, 'Y': 8.47},\n",
              " {'Series': 'IV', 'X': 8.0, 'Y': 7.04},\n",
              " {'Series': 'IV', 'X': 8.0, 'Y': 5.25},\n",
              " {'Series': 'IV', 'X': 19.0, 'Y': 12.5},\n",
              " {'Series': 'IV', 'X': 8.0, 'Y': 5.56},\n",
              " {'Series': 'IV', 'X': 8.0, 'Y': 7.91},\n",
              " {'Series': 'IV', 'X': 8.0, 'Y': 6.89}]"
            ]
          },
          "metadata": {},
          "execution_count": 98
        }
      ]
    },
    {
      "cell_type": "code",
      "metadata": {
        "id": "PpyVR9tJbTE1",
        "colab": {
          "base_uri": "https://localhost:8080/",
          "height": 34
        },
        "outputId": "28a33cb7-bb8a-46c3-bea0-8d8d77d3a7f9"
      },
      "source": [
        "# similarly using the 'with' clause\n",
        "with open('json_file.txt', 'w') as f:\n",
        "    json.dump(my_dict, f)\n",
        "\n",
        "with open('json_file.txt', 'r') as f:\n",
        "    file1 = json.load(f)\n",
        "print(file1)"
      ],
      "execution_count": null,
      "outputs": [
        {
          "output_type": "stream",
          "text": [
            "{'A': 2, 'B': 4, 'C': 5}\n"
          ],
          "name": "stdout"
        }
      ]
    },
    {
      "cell_type": "code",
      "metadata": {
        "id": "RJxpOIlGbTKQ"
      },
      "source": [
        "dict_1 = json.loads('{\"A\": 2}')"
      ],
      "execution_count": null,
      "outputs": []
    },
    {
      "cell_type": "code",
      "metadata": {
        "id": "kj9E8O9UbTPg",
        "colab": {
          "base_uri": "https://localhost:8080/"
        },
        "outputId": "35803e26-253d-4722-9f39-d195b7d1f9cc"
      },
      "source": [
        "dict_1[\"A\"]"
      ],
      "execution_count": null,
      "outputs": [
        {
          "output_type": "execute_result",
          "data": {
            "text/plain": [
              "2"
            ]
          },
          "metadata": {},
          "execution_count": 103
        }
      ]
    },
    {
      "cell_type": "code",
      "metadata": {
        "id": "Mh6MQIElbAvr"
      },
      "source": [],
      "execution_count": null,
      "outputs": []
    }
  ]
}