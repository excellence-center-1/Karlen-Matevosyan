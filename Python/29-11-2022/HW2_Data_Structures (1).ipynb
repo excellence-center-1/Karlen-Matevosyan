{
  "nbformat": 4,
  "nbformat_minor": 0,
  "metadata": {
    "colab": {
      "provenance": []
    },
    "kernelspec": {
      "name": "python3",
      "display_name": "Python 3"
    }
  },
  "cells": [
    {
      "cell_type": "markdown",
      "metadata": {
        "id": "GCEodKTbRd_r"
      },
      "source": [
        "# Homework Exercises"
      ]
    },
    {
      "cell_type": "markdown",
      "metadata": {
        "id": "sM2FU5TVqX3l"
      },
      "source": [
        "## Strings"
      ]
    },
    {
      "cell_type": "markdown",
      "metadata": {
        "id": "1WbPDB3mI7MO"
      },
      "source": [
        "1. Write a program that asks the user to enter a string. The program should then print the\n",
        "following:\n",
        "\n",
        "  * The total number of characters in the string\n",
        "  * The string repeated 10 times\n",
        "  * The first character of the string \n",
        "  * The first three characters of the string\n",
        "  * The last three characters of the string\n",
        "  * The string backwards\n",
        "\n",
        "  Գրել ծրագիր, որը օգտատիրոջ մուտքագրած տեքստի (string) համար կտպի հետևյալը․\n",
        "\n",
        "  * Ընդհանուր սիմվոլների քանակը\n",
        "  * տեքստը 10 անգամ կրկնած\n",
        "  * առաջին անդամը\n",
        "  * առաջին 3 անդամները\n",
        "  * վերջին 3 անդամները\n",
        "  * տեսքտը հակառակ շրջած"
      ]
    },
    {
      "cell_type": "code",
      "metadata": {
        "id": "TXQRhmFoI6-z",
        "colab": {
          "base_uri": "https://localhost:8080/"
        },
        "outputId": "1f213839-301a-4209-8fdf-f053de4b4c22"
      },
      "source": [
        "text = input(\"Enter Text: \")\n",
        "print(len(text))\n",
        "print(text * 10)\n",
        "print(text[0])\n",
        "print(text[:3])\n",
        "print(text[3:])\n",
        "print(text[::-1])"
      ],
      "execution_count": 22,
      "outputs": [
        {
          "output_type": "stream",
          "name": "stdout",
          "text": [
            "Enter Text: karlen\n",
            "6\n",
            "karlenkarlenkarlenkarlenkarlenkarlenkarlenkarlenkarlenkarlen\n",
            "k\n",
            "kar\n",
            "len\n",
            "nelrak\n"
          ]
        }
      ]
    },
    {
      "cell_type": "markdown",
      "metadata": {
        "id": "hfFxrQ4YI6v7"
      },
      "source": [
        "2. Using for loop iterate through the string `Hello world` and count the number of 'l's in it.\n",
        "\n",
        "  Անցնել `Hello world` տեքստի վրայով և հաշվել դրա մեջ `l` տառի հաճախականությունը՝ օգտագործելով for ցիկլ։"
      ]
    },
    {
      "cell_type": "code",
      "metadata": {
        "id": "PoLfgh08VSHZ",
        "colab": {
          "base_uri": "https://localhost:8080/"
        },
        "outputId": "2eebc05d-d013-4429-aa55-6924eac9c5b7"
      },
      "source": [
        "count = 0\n",
        "text = input(\"Enter Text: \")\n",
        "for i in range(len(text)):\n",
        "  if text[i] == 'l':\n",
        "    count += 1\n",
        "print(count)"
      ],
      "execution_count": 28,
      "outputs": [
        {
          "output_type": "stream",
          "name": "stdout",
          "text": [
            "Enter Text: Hello World\n",
            "3\n"
          ]
        }
      ]
    },
    {
      "cell_type": "markdown",
      "metadata": {
        "id": "Qk-vQlp1VSPk"
      },
      "source": [
        "3. Write a program that asks the user for a string and creates a new string that doubles each character of the original string. For instance, if the user enters `Hello`, the output should be `HHeelllloo`.\n",
        "\n",
        "  Գրել ծրագիր, որը վերցնում է օգտատիրոջ կողմից մուտքագրված տեքստը և պատրաստում է նոր տեքստ, որի մեջ գրված են մուտքագրված բառի տառերը կրկնապատկված։ Օրինակ՝ `Hello` բառի համար կվերադարձնի `HHeelllloo`։"
      ]
    },
    {
      "cell_type": "code",
      "metadata": {
        "id": "Egenwe06VSWV",
        "colab": {
          "base_uri": "https://localhost:8080/"
        },
        "outputId": "f44db988-dda2-4650-8ffc-e2f5a379c607"
      },
      "source": [
        "string = input(\"Enter String: \")\n",
        "for i in range(len(string)):\n",
        "  print(string[i]*2,end = \"\")"
      ],
      "execution_count": 101,
      "outputs": [
        {
          "output_type": "stream",
          "name": "stdout",
          "text": [
            "Enter String: Hello\n",
            "HHeelllloo"
          ]
        }
      ]
    },
    {
      "cell_type": "markdown",
      "metadata": {
        "id": "ZCBZc1U1VSb7"
      },
      "source": [
        "4. Write a program that asks a user for their name and prints it in the following way:\n",
        "\n",
        "  `A Ar Arm Arme Armen`.\n",
        "\n",
        "  Hint: use a for loop.\n",
        "\n",
        "  Գրել ծրագիր, որը վերցնում է օգտատիրոջ անունը և տպում է այն հետևյալ կերպ․\n",
        "\n",
        "  `A Ar Arm Arme Armen`\n",
        "\n",
        "  Հուշում․ օգտագործել for ցիկլ։"
      ]
    },
    {
      "cell_type": "code",
      "metadata": {
        "id": "vK_7hQuuVSha",
        "colab": {
          "base_uri": "https://localhost:8080/"
        },
        "outputId": "61bb3b56-fd44-46bc-a88d-5afaed322496"
      },
      "source": [
        "name = input(\"Enter Your Name: \")\n",
        "for i in range(len(name)):\n",
        "  print(name[:i+1],end = \" \")"
      ],
      "execution_count": 97,
      "outputs": [
        {
          "output_type": "stream",
          "name": "stdout",
          "text": [
            "Enter Your Name: Karlen\n",
            "K Ka Kar Karl Karle Karlen "
          ]
        }
      ]
    },
    {
      "cell_type": "markdown",
      "metadata": {
        "id": "RsjwjrDfVtAR"
      },
      "source": [
        "5. Write a program that removes all capitalization and common punctuation (`,.;:-?!()\\'\"`) from a\n",
        "string `s`.\n",
        "\n",
        "  Գրել ծրագիր, որը դարձնում է `s` տեքստի մեծատառերը՝ փոքրատառ և ջնջում է տեքստում առկա հետևյալ կետադրական նշանները՝ `,.;:-?!()\\'\"`։"
      ]
    },
    {
      "cell_type": "code",
      "metadata": {
        "id": "WmpM4SyDVtF4",
        "colab": {
          "base_uri": "https://localhost:8080/"
        },
        "outputId": "798eb2bf-fe0b-4d01-9301-60bdb8c4752e"
      },
      "source": [
        "ignored = ',.;:-?!()\\'\"'\n",
        "s = input(\"Enter Text: \")\n",
        "upd = \"\"\n",
        "for i in s:\n",
        "  if i not in ignored:\n",
        "    upd += i\n",
        "    upd = upd.lower()\n",
        "print(upd)"
      ],
      "execution_count": 96,
      "outputs": [
        {
          "output_type": "stream",
          "name": "stdout",
          "text": [
            "Enter Text: KASKEKGR:?!.,\n",
            "kaskekgr\n"
          ]
        }
      ]
    },
    {
      "cell_type": "markdown",
      "metadata": {
        "id": "KgF5uPuhVtLl"
      },
      "source": [
        "6. Write a program that, given a string that contains a decimal number, prints out the\n",
        "decimal part of the number. For instance, if given `3.14159`, the program should print out `.14159`.\n",
        "\n",
        "  Գրել ծրագիր, որը վերցնում է տասնորդական թիվ՝ որպես տեքստ և տպում է դրա տասնորդական կարգը, այսինքն՝ օրինակ  `3.14159`-ի համար ծրագիրը պետք է տպի `.14159`։"
      ]
    },
    {
      "cell_type": "code",
      "metadata": {
        "id": "0gH3y-Q2VSnR",
        "colab": {
          "base_uri": "https://localhost:8080/"
        },
        "outputId": "64f0456c-202b-4deb-a3c2-fac00f186eb4"
      },
      "source": [
        "s =input('Enter your decimal number:')\n",
        "print(s[s.index('')+1:])"
      ],
      "execution_count": 87,
      "outputs": [
        {
          "output_type": "stream",
          "name": "stdout",
          "text": [
            "Enter your decimal number:3.14159\n",
            ".14159\n"
          ]
        }
      ]
    },
    {
      "cell_type": "markdown",
      "metadata": {
        "id": "3HEZ6dl0ekny"
      },
      "source": [
        "7. A simple way to estimate the number of words in a string is to count the number of spaces\n",
        "in the string. Write a program that asks the user for a string and returns an estimate of how\n",
        "many words are in the string.\n",
        "\n",
        "  Տեքստի մեջ բառերի քանակը մոտավոր հաշվելու պարզագույն եղանակը տեքստում բացատների քանակը հաշվելն է։ Գրել ծրագիր, որը կտպի բացատների քանակը՝ օգտատիրոջ կողմից մուտքագրված տեքստում։ "
      ]
    },
    {
      "cell_type": "code",
      "metadata": {
        "id": "AgRYItgXek22",
        "colab": {
          "base_uri": "https://localhost:8080/"
        },
        "outputId": "96d59e9c-5468-416e-c0bf-7e6c288417f0"
      },
      "source": [
        "count = 0\n",
        "text = input(\"Enter Text: \")\n",
        "for i in range(len(text)):\n",
        "  if text[i] == ' ':\n",
        "    count += 1\n",
        "print(count)"
      ],
      "execution_count": 89,
      "outputs": [
        {
          "output_type": "stream",
          "name": "stdout",
          "text": [
            "Enter Text: Today France and England play with Poland and Senegal\n",
            "8\n"
          ]
        }
      ]
    },
    {
      "cell_type": "markdown",
      "metadata": {
        "id": "_OkxDUHEI6kS"
      },
      "source": [
        "8. Write a program that asks the user to enter a string `s` and then converts `s` to lowercase, removes\n",
        "all the `periods` (.) and `commas` (,) from `s`, and prints the resulting string.\n",
        "\n",
        "  Գրել ծրագիր, որը օգտատիրոջից վերցնում է տեքստ, դարձնում այն փոքրատառ, վերացնում վերջակետերն (.) ու ստորակետերը (,) և տպում ստացված տեքստը։"
      ]
    },
    {
      "cell_type": "code",
      "metadata": {
        "id": "cTN0Ve60jEqT",
        "colab": {
          "base_uri": "https://localhost:8080/"
        },
        "outputId": "7f15cf93-91ba-4f07-e0d4-ac4d16d4bb72"
      },
      "source": [
        "ignored = ',.'  \n",
        "text = input(\"Enter Text: \")  \n",
        "upd = \"\"  \n",
        "for i in text:  \n",
        "   if i not in ignored:  \n",
        "       upd += i  \n",
        "print(upd) "
      ],
      "execution_count": 98,
      "outputs": [
        {
          "output_type": "stream",
          "name": "stdout",
          "text": [
            "Enter Text: Karlen,matevosyangmail.com\n",
            "Karlenmatevosyangmailcom\n"
          ]
        }
      ]
    },
    {
      "cell_type": "markdown",
      "metadata": {
        "id": "xlBkRh2dVHWo"
      },
      "source": [
        "9. Write a program that asks the user to enter a word and determines whether the word is a\n",
        "`palindrome` or not. A palindrome is a word that reads the same backwards as forwards.\n",
        "\n",
        "  Գրել ծրագիր, որը օտատիրոջից վերցնում է մեկ բառ և ստուգում է արդյոք այդ բառը պալինդրոմ է, թե՝ ոչ։ Պալինդրոմ են անվանում այն բառերին, որոնք սկբից և վերջից կարդալիս նույնն են։ Օրինակ՝ ապա, Աննա, ահա, աբբգգբբա։ Բառերը կարող են իմաստ չունենալ։  \n",
        "\n"
      ]
    },
    {
      "cell_type": "code",
      "metadata": {
        "id": "TwvYtVrAVHbQ",
        "colab": {
          "base_uri": "https://localhost:8080/"
        },
        "outputId": "ffbd4b34-b6bb-4205-f114-61eba6398c2b"
      },
      "source": [
        "text = input(\"Enter Any Text: \")\n",
        "print(text)\n",
        "rev_text = text[::-1]\n",
        "print(rev_text)\n",
        "if text == rev_text:\n",
        "  print(\"Its Palindrome\")\n",
        "else:\n",
        "  print(\"Its Not Palindrome\")"
      ],
      "execution_count": 64,
      "outputs": [
        {
          "output_type": "stream",
          "name": "stdout",
          "text": [
            "Enter Any Text: akkkka\n",
            "akkkka\n",
            "akkkka\n",
            "Its Palindrome\n"
          ]
        }
      ]
    },
    {
      "cell_type": "markdown",
      "metadata": {
        "id": "32hdDmh3VHfY"
      },
      "source": [
        "10. Write a program that asks the user for their name and then generates the email written below for that person.\n",
        "\n",
        "  Գրել ծրագիր, որը հարցնում է օգտատիրոջ անուն, ազգանունը և տպում այդ օգտատիրոջ համար հետևյալ նամակը։ \n",
        "\n",
        "  \"Dear **Name Surname**,\n",
        "  \n",
        "  I am pleased to offer you our new special product. **Name**, you may not get such an offer every day, so I would like to ask you to call\n",
        "now. We cannot offer such a low\n",
        "rate for long, **Name**, so please call as soon as possible.\" "
      ]
    },
    {
      "cell_type": "code",
      "metadata": {
        "id": "8OmuGQjqVHjn",
        "colab": {
          "base_uri": "https://localhost:8080/"
        },
        "outputId": "81622da7-2fff-4774-896d-35b0d641c76f"
      },
      "source": [
        "name = input(\"Enter Your Name: \")\n",
        "surname = input(\"Enter Your SurName: \")\n",
        "print()\n",
        "print(f\"Dear {name} {surname},\")\n",
        "print()\n",
        "print(f\"I am pleased to offer you our new special product. {name}, you may not get such an offer every day, so I would like to ask you to call now.\")\n",
        "print(f\"We cannot offer such a low rate for long, {name}, so please call as soon as possible.\")"
      ],
      "execution_count": 73,
      "outputs": [
        {
          "output_type": "stream",
          "name": "stdout",
          "text": [
            "Enter Your Name: Karlen\n",
            "Enter Your SurName: Matevosyan\n",
            "\n",
            "Dear Karlen Matevosyan,\n",
            "\n",
            "I am pleased to offer you our new special product. Karlen, you may not get such an offer every day, so I would like to ask you to call now.\n",
            "We cannot offer such a low rate for long, Karlen, so please call as soon as possible.\n"
          ]
        }
      ]
    },
    {
      "cell_type": "markdown",
      "metadata": {
        "id": "_wOptjGTqTFC"
      },
      "source": [
        "## Lists"
      ]
    },
    {
      "cell_type": "markdown",
      "metadata": {
        "id": "2cUNMzReV_fd"
      },
      "source": [
        "11. Write a program that removes the repeated items from a list and leaves only the unique values in the initial order.\n",
        "\n",
        "  Գրել ծրագիր, որը կվերադարձնի list-ի յուրաքանչյուր տարր առանց կրկնության։"
      ]
    },
    {
      "cell_type": "code",
      "metadata": {
        "id": "ylT4vZLWV_pO"
      },
      "source": [],
      "execution_count": null,
      "outputs": []
    },
    {
      "cell_type": "markdown",
      "metadata": {
        "id": "CIc1nNl8V_vm"
      },
      "source": [
        "12. Write a program that counts the number of occurances of each item in the list. \n",
        "\n",
        "  Գրել ծրագիր, որը կհաշվի list-ի տարրերի հաճախականությունները։"
      ]
    },
    {
      "cell_type": "code",
      "metadata": {
        "id": "nn4LVRfSV_0t"
      },
      "source": [],
      "execution_count": null,
      "outputs": []
    },
    {
      "cell_type": "markdown",
      "metadata": {
        "id": "aO1ojeTnWEpt"
      },
      "source": [
        "13. Write a program that generates a list of 50 random numbers between 1 and 100. Count how many items in the list are greater than 50.\n",
        "\n",
        "  Գրել ծրագիր, որը կստեղծի 50 պատահական ամբողջ թիվ 1-100 միջակայքից և կհաշվի 50-ից մեծ թվերի քանակը։"
      ]
    },
    {
      "cell_type": "code",
      "metadata": {
        "id": "RziUX7kRWEwq"
      },
      "source": [],
      "execution_count": null,
      "outputs": []
    },
    {
      "cell_type": "markdown",
      "metadata": {
        "id": "YxseNPKzWE1L"
      },
      "source": [
        "14. Write a program that prints out the \n",
        "* total number of elements\n",
        "* sum of all elements\n",
        "* two largest and two smallest elements \n",
        "\n",
        "of a list entered by the user.\n",
        "\n",
        "  Գրել ծրագիր, որը կտպի օգտատիրոջ կողմից մուտքագրված list-ի\n",
        "  * ընդհանուր էլեմենտների քանակը\n",
        "  * բոլոր էլեմենտների գումարը\n",
        "  * երկու ամենամեծ և ամենափոքր տարրերը"
      ]
    },
    {
      "cell_type": "code",
      "metadata": {
        "id": "wzI_x4u_WE_w"
      },
      "source": [],
      "execution_count": null,
      "outputs": []
    },
    {
      "cell_type": "markdown",
      "metadata": {
        "id": "YUaFYy8OIHWp"
      },
      "source": [
        "15. Write a program that generates a list of 20 random numbers between 1 and 100.\n",
        "  * Print the list.\n",
        "  * Print the average of the elements in the list.\n",
        "  * Print the largest and smallest values in the list.\n",
        "  * Print the second largest and second smallest entries in the list\n",
        "  * Print how many even numbers are in the list.\n",
        "\n",
        "  Գրել ծրագիր, որը կստեղծի 1-100 միջակայքից 20 պատահական ամբողջ թվեր պարունակող list և կտպի\n",
        "  * այդ list-ը \n",
        "  * list-ի թվաբանական միջինը\n",
        "  * մեծագույն և փոքրագուն թվերը\n",
        "  * երկրորդ ամենամեծ և ամենափոքր թվերը\n",
        "  * զույգ թվերի քանակը"
      ]
    },
    {
      "cell_type": "code",
      "metadata": {
        "id": "xrSVUy31IHeV"
      },
      "source": [],
      "execution_count": null,
      "outputs": []
    },
    {
      "cell_type": "markdown",
      "metadata": {
        "id": "FgcH-562IHlB"
      },
      "source": [
        "16. Ask the user to enter a list containing numbers between 1 and 12. Then replace all of the\n",
        "entries in the list that are greater than 8 with 8 And prints the resulting list.\n",
        "\n",
        "  Գրել ծրագիր, որը վերցնում է օգտատիրոջ կողմից մուտքագրված 1-ից 12 ամբողջ թվեր, փոխարինում 8-ից մեծ թվերը 8-ով և տպում է ստացված list-ը։"
      ]
    },
    {
      "cell_type": "code",
      "metadata": {
        "id": "KMqAiNsGIHsU"
      },
      "source": [],
      "execution_count": null,
      "outputs": []
    },
    {
      "cell_type": "markdown",
      "metadata": {
        "id": "IicCIcQvIHxY"
      },
      "source": [
        "17. Ask the user to enter a list of strings. Create a new list that consists of those strings with their\n",
        "first characters removed.\n",
        "\n",
        "  Օգտատիրոջ կողմից պետք է մուտքագրվի string-ների list, այնուհետև պահանջվում է ստեղծել նոր list, որտեղ կլինեն նույն string-ները, բայց առանց առաջին սիմվոլի։ Օրինակ՝ \n",
        "  `['!dog', '+cat']` $\\to$ `['dog', 'cat']`"
      ]
    },
    {
      "cell_type": "code",
      "metadata": {
        "id": "gW2JdxzWIH4g"
      },
      "source": [],
      "execution_count": null,
      "outputs": []
    },
    {
      "cell_type": "markdown",
      "metadata": {
        "id": "MEC70di4IH_O"
      },
      "source": [
        "18. Write a program that generates 100 random integers that are either 0 or 1. Then find the largest number of zeros in a row. For instance, the longest run of\n",
        "zeros in `[1,0,1,1,0,0,0,0,1,0,0]` is 4. \n",
        "\n",
        "  Գրել ծրագիր, որը կստեղծի 100 պատահական 0-ներ և 1-եր, ապա կհաշվի թե ամենաշատը քանի իրար հաջորդող 0-ներ կան տվյալ list-ի մեջ։ Օրինակ՝ այս դեպքում `[1,0,1,1,0,0,0,0,1,0,0]` այդ թիվը կլինի 4-ը.  "
      ]
    },
    {
      "cell_type": "code",
      "metadata": {
        "id": "wU6-9X9zIIFe"
      },
      "source": [],
      "execution_count": null,
      "outputs": []
    },
    {
      "cell_type": "markdown",
      "metadata": {
        "id": "DX4939I0Kdqt"
      },
      "source": [
        "19. Create the following lists using list comprehension.\n",
        "\n",
        "  * A list consisting of the even integers 0 through 49\n",
        "  * A list containing the squares of the integers 1 through 50 that are divisible by 3.\n",
        "\n",
        "  Ստեղծել հետևյալ list-երը օգտագործելով list comprehension մեթոդը։\n",
        "\n",
        "  * 0-ից 49 զույգ ամբողջ թվերը\n",
        "  * 1-ից 50 ամողջ թվերից 3-ի բաժանվողների քառակուսիները"
      ]
    },
    {
      "cell_type": "code",
      "metadata": {
        "id": "bAKqzpv6KfDJ"
      },
      "source": [],
      "execution_count": null,
      "outputs": []
    },
    {
      "cell_type": "markdown",
      "metadata": {
        "id": "NKP8JTNb6z5P"
      },
      "source": [
        "# Dictionaries, Tuples, Sets"
      ]
    },
    {
      "cell_type": "markdown",
      "metadata": {
        "id": "ms2qt7pe6wKD"
      },
      "source": [
        "20. Write a program that uses a dictionary that contains ten user names and passwords. The\n",
        "program should ask the user to enter their username and password. If the username is not in\n",
        "the dictionary, the program should indicate that the person is not a valid user of the system. If\n",
        "the username is in the dictionary, but the user does not enter the right password, the program\n",
        "should say that the password is invalid. If the password is correct, then the program should\n",
        "tell the user that they are now logged in to the system.\n",
        "\n",
        "  Գրել ծրագիր, որը օգտագործում է dictionary, որպեսզի պահի 10 օգտատերերի հաշվիների անունները և գաղտնաբառերը։ Ծրագիրը օգտատիրոջից պահանջում է մուտքագրել անունը և գաղտնաբառը, որոնց չհամընկնելու դեպքում ծրագիրը պետք է տեղեկացնի դրա մասին նշելով թե որ ինչը չի համընկել․ անունը թե գաղտնաբառը։ Եթե գաղտնաբառը ճիշտ է, ապա ծրագիրը պետք է հայտնի, որ օգտատերը արդեն մուտք է գործել համակարգ։"
      ]
    },
    {
      "cell_type": "code",
      "metadata": {
        "id": "HpvGvAxs6yzr"
      },
      "source": [],
      "execution_count": null,
      "outputs": []
    },
    {
      "cell_type": "markdown",
      "metadata": {
        "id": "otpqwn7s67XR"
      },
      "source": [
        "21. Repeatedly ask the user to enter a team name and the how many games the team won and\n",
        "how many they lost. Store this information in a dictionary where the keys are the team names\n",
        "and the values are tuples of the form (wins, losses). Using the dictionary created above,\n",
        "\n",
        "  1. allow the user to enter a team name and print out\n",
        "the team's winning percentage.\n",
        "  2. create a list whose entries are the number of wins of each team.\n",
        "  3. print the name of the team with the most number of losses.\n",
        "\n",
        "  Գրել ծրագիր, որը կվերցնի օգտատիրոջից ինչ-որ թիմի անուն և տեղեկատվություն այդ թիմի հաղթանակների և պարտությունների քանակների մասին։ Տվյալները պետք է պահել dictionary-ի մեջ, որտեղ բանալիները կլինեն մուտքագրված թիմերի անունները, իսկ արժեքները կլինեն (հաղթանակներ, պարտություններ) ֆորմատով tuple: Օգտագործելով վերոնշյալ dictionary-ն\n",
        "  \n",
        "  1. տպել օգտատիրոջ կողմից նշված թիմի հաղթանակների տոկոսը։ \n",
        "  2. ստեղծել list, որի տարրերը կլինեն յուրաքանչյուր թիմի հաղթանակների քանակները։\n",
        "  3. տպել ամենաշատը պարտված թիմի անունը։"
      ]
    },
    {
      "cell_type": "code",
      "metadata": {
        "id": "hBhvQFQM67h_"
      },
      "source": [],
      "execution_count": null,
      "outputs": []
    },
    {
      "cell_type": "markdown",
      "metadata": {
        "id": "fPmRTK6w67nC"
      },
      "source": [
        "22. Repeatedly ask the user to enter game scores in a format like `team1 score1 - team2 score2`. Store\n",
        "this information in a dictionary where the keys are the team names and the values are tuples of\n",
        "the form (wins, losses).\n",
        "\n",
        "  Գրել ծրագիր, որը օգտատիրոջից վերցնում է խաղերի հաշվի տեղեկատվություն հետևյալ ֆորմատով՝ `team1 score1 - team2 score2` և ստեղծում է dictionary-ի, որտեղ բանալիները կլինեն թիմերի անունները, իսկ արժեքները կլինեն tuple-ներ՝ հաղթանակների և պարտությունների քանակներից կազմված։"
      ]
    },
    {
      "cell_type": "code",
      "metadata": {
        "id": "vfNjpUUk67sA",
        "colab": {
          "base_uri": "https://localhost:8080/",
          "height": 84
        },
        "outputId": "edad7cf2-131c-484b-ea94-76060ba34abf"
      },
      "source": [
        "# Pyunik 3 - Mika 2\n",
        "# Pyunik 1 - Ararat 2"
      ],
      "execution_count": null,
      "outputs": [
        {
          "output_type": "stream",
          "text": [
            "Pyunik 3 - Mika 2\n",
            "Pyunik 1 - Ararat 2\n",
            "\n",
            "{'Pyunik': (1, 1), 'Mika': (0, 1), 'Ararat': (1, 0)}\n"
          ],
          "name": "stdout"
        }
      ]
    },
    {
      "cell_type": "markdown",
      "metadata": {
        "id": "4Wh2rYRD67ww"
      },
      "source": [
        "23.  Create a $5 \\times 5$ list of numbers. Then write a program that creates a dictionary whose keys are\n",
        "the numbers and whose values are the how many times the number occurs. Then print the three most common numbers.\n",
        "\n",
        "  Ստեղծել $5 \\times 5$ չափսի մատրից (list-երի list), այնուհետև ստեղծել dictionary, որտեղ բանալիները կլինեն մատրիցի թվերը, իսկ արժեքները կլինեն այդ թվերի հաճախականությունները (քանի անգամ են հանդիպում) այդ մատրիցի մեջ։ Տպել 3 ամենաշատ հանդիպող թվերը։\n"
      ]
    },
    {
      "cell_type": "code",
      "metadata": {
        "id": "OhCE05K4671x"
      },
      "source": [],
      "execution_count": null,
      "outputs": []
    },
    {
      "cell_type": "markdown",
      "metadata": {
        "id": "7zQ_28J07RVg"
      },
      "source": [
        "24. Write a program that reads through the given list of dictionaries and prints the following:\n",
        "  1. All the users whose phone number ends in an 8\n",
        "  2. All the users that don't have an email address listed\n",
        "\n",
        "  Գրել ծրագիր, որը կմշակի տրված list-ը և կտպի հետևյալը․\n",
        "  1. Բոլոր օգտատերերի անունները՝ ում հեռախոսի համարը վերջանում է 8-ով\n",
        "  2. Բոլոր օգտատերերի անունները՝ ովքեր չունեն կցված email հասցե։\n",
        "\n"
      ]
    },
    {
      "cell_type": "code",
      "metadata": {
        "id": "4CPu6-m87UQj"
      },
      "source": [
        "d = [{'name':'Todd', 'phone':'555-1414', 'email':'todd@mail.net'},\n",
        "    {'name':'Helga', 'phone':'555-1618', 'email':'helga@mail.net'},\n",
        "    {'name':'Princess', 'phone':'555-3141', 'email':''},\n",
        "    {'name':'LJ', 'phone':'555-2718', 'email':'lj@mail.net'}]\n",
        "\n",
        "\n"
      ],
      "execution_count": null,
      "outputs": []
    },
    {
      "cell_type": "markdown",
      "metadata": {
        "id": "6WjRITsC7V95"
      },
      "source": [
        "25. Write a program that prints the unique even numbers from a given tuple by the user with the help of set properties.\n",
        "\n",
        "  Գրել ծրագիր, որը կտպի օգտատիրոջ կողմից մուտքագրված tuple-ի զույգ թվերը (առանց կրկնության) oգտվելով set-երի հատկությունից։ "
      ]
    },
    {
      "cell_type": "code",
      "metadata": {
        "id": "vAxnEan27ZjH"
      },
      "source": [],
      "execution_count": null,
      "outputs": []
    }
  ]
}